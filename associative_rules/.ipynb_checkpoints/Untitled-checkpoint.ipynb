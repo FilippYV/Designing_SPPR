{
 "cells": [
  {
   "cell_type": "code",
   "execution_count": 13,
   "id": "80ba163d",
   "metadata": {},
   "outputs": [],
   "source": [
    "import pandas as pd\n",
    "import numpy as np\n",
    "import seaborn as sn\n",
    "import itertools"
   ]
  },
  {
   "cell_type": "code",
   "execution_count": 2,
   "id": "6a9aac40",
   "metadata": {},
   "outputs": [],
   "source": [
    "data = pd.read_csv('stasic//data.csv')"
   ]
  },
  {
   "cell_type": "code",
   "execution_count": 2,
   "id": "9479bd18",
   "metadata": {},
   "outputs": [],
   "source": [
    "data = pd.read_csv('static//new_data.csv')"
   ]
  },
  {
   "cell_type": "code",
   "execution_count": 3,
   "id": "5930de5c",
   "metadata": {},
   "outputs": [
    {
     "data": {
      "text/plain": [
       "array([[<Axes: title={'center': 'receipt_number'}>]], dtype=object)"
      ]
     },
     "execution_count": 3,
     "metadata": {},
     "output_type": "execute_result"
    },
    {
     "data": {
      "image/png": "[encoded data removed]",
      "text/plain": [
       "<Figure size 640x480 with 1 Axes>"
      ]
     },
     "metadata": {},
     "output_type": "display_data"
    }
   ],
   "source": [
    "data.hist()"
   ]
  },
  {
   "cell_type": "code",
   "execution_count": 4,
   "id": "8ba63c49",
   "metadata": {},
   "outputs": [
    {
     "data": {
      "text/html": [
       "<div>\n",
       "<style scoped>\n",
       "    .dataframe tbody tr th:only-of-type {\n",
       "        vertical-align: middle;\n",
       "    }\n",
       "\n",
       "    .dataframe tbody tr th {\n",
       "        vertical-align: top;\n",
       "    }\n",
       "\n",
       "    .dataframe thead th {\n",
       "        text-align: right;\n",
       "    }\n",
       "</style>\n",
       "<table border=\"1\" class=\"dataframe\">\n",
       "  <thead>\n",
       "    <tr style=\"text-align: right;\">\n",
       "      <th></th>\n",
       "      <th>receipt_number</th>\n",
       "      <th>product</th>\n",
       "    </tr>\n",
       "  </thead>\n",
       "  <tbody>\n",
       "    <tr>\n",
       "      <th>0</th>\n",
       "      <td>15</td>\n",
       "      <td>Передние тормозные колодки</td>\n",
       "    </tr>\n",
       "    <tr>\n",
       "      <th>1</th>\n",
       "      <td>15</td>\n",
       "      <td>Моторное масло</td>\n",
       "    </tr>\n",
       "    <tr>\n",
       "      <th>2</th>\n",
       "      <td>15</td>\n",
       "      <td>Масляный фильтр ДВС</td>\n",
       "    </tr>\n",
       "    <tr>\n",
       "      <th>3</th>\n",
       "      <td>20</td>\n",
       "      <td>Фильтр салона</td>\n",
       "    </tr>\n",
       "    <tr>\n",
       "      <th>4</th>\n",
       "      <td>30</td>\n",
       "      <td>Свечи зажигания на моделях с бензиновым ДВС</td>\n",
       "    </tr>\n",
       "    <tr>\n",
       "      <th>5</th>\n",
       "      <td>30</td>\n",
       "      <td>Передние тормозные колодки</td>\n",
       "    </tr>\n",
       "    <tr>\n",
       "      <th>6</th>\n",
       "      <td>30</td>\n",
       "      <td>Задние тормозные колодки</td>\n",
       "    </tr>\n",
       "    <tr>\n",
       "      <th>7</th>\n",
       "      <td>30</td>\n",
       "      <td>Моторное масло</td>\n",
       "    </tr>\n",
       "    <tr>\n",
       "      <th>8</th>\n",
       "      <td>30</td>\n",
       "      <td>Воздушный фильтр ДВС</td>\n",
       "    </tr>\n",
       "    <tr>\n",
       "      <th>9</th>\n",
       "      <td>30</td>\n",
       "      <td>Масляный фильтр ДВС</td>\n",
       "    </tr>\n",
       "    <tr>\n",
       "      <th>10</th>\n",
       "      <td>30</td>\n",
       "      <td>Топливный фильтр тонкой очистки</td>\n",
       "    </tr>\n",
       "    <tr>\n",
       "      <th>11</th>\n",
       "      <td>40</td>\n",
       "      <td>Передние тормозные колодки</td>\n",
       "    </tr>\n",
       "    <tr>\n",
       "      <th>12</th>\n",
       "      <td>40</td>\n",
       "      <td>Фильтр салона</td>\n",
       "    </tr>\n",
       "    <tr>\n",
       "      <th>13</th>\n",
       "      <td>45</td>\n",
       "      <td>Моторное масло</td>\n",
       "    </tr>\n",
       "    <tr>\n",
       "      <th>14</th>\n",
       "      <td>45</td>\n",
       "      <td>Масляный фильтр ДВС</td>\n",
       "    </tr>\n",
       "    <tr>\n",
       "      <th>15</th>\n",
       "      <td>50</td>\n",
       "      <td>Передние тормозные колодки</td>\n",
       "    </tr>\n",
       "    <tr>\n",
       "      <th>16</th>\n",
       "      <td>50</td>\n",
       "      <td>Масло в коробке передач</td>\n",
       "    </tr>\n",
       "    <tr>\n",
       "      <th>17</th>\n",
       "      <td>50</td>\n",
       "      <td>Жидкость ГУР</td>\n",
       "    </tr>\n",
       "    <tr>\n",
       "      <th>18</th>\n",
       "      <td>50</td>\n",
       "      <td>Масляный фильтр коробки передач</td>\n",
       "    </tr>\n",
       "    <tr>\n",
       "      <th>19</th>\n",
       "      <td>55</td>\n",
       "      <td>Тормозная жидкость</td>\n",
       "    </tr>\n",
       "    <tr>\n",
       "      <th>20</th>\n",
       "      <td>60</td>\n",
       "      <td>Свечи зажигания на моделях с бензиновым ДВС</td>\n",
       "    </tr>\n",
       "    <tr>\n",
       "      <th>21</th>\n",
       "      <td>60</td>\n",
       "      <td>Передние тормозные колодки</td>\n",
       "    </tr>\n",
       "    <tr>\n",
       "      <th>22</th>\n",
       "      <td>60</td>\n",
       "      <td>Задние тормозные колодки</td>\n",
       "    </tr>\n",
       "    <tr>\n",
       "      <th>23</th>\n",
       "      <td>60</td>\n",
       "      <td>Моторное масло</td>\n",
       "    </tr>\n",
       "    <tr>\n",
       "      <th>24</th>\n",
       "      <td>60</td>\n",
       "      <td>Воздушный фильтр ДВС</td>\n",
       "    </tr>\n",
       "    <tr>\n",
       "      <th>25</th>\n",
       "      <td>60</td>\n",
       "      <td>Масляный фильтр ДВС</td>\n",
       "    </tr>\n",
       "    <tr>\n",
       "      <th>26</th>\n",
       "      <td>60</td>\n",
       "      <td>Топливный фильтр тонкой очистки</td>\n",
       "    </tr>\n",
       "    <tr>\n",
       "      <th>27</th>\n",
       "      <td>60</td>\n",
       "      <td>Фильтр салона</td>\n",
       "    </tr>\n",
       "    <tr>\n",
       "      <th>28</th>\n",
       "      <td>70</td>\n",
       "      <td>Приводной ремень</td>\n",
       "    </tr>\n",
       "    <tr>\n",
       "      <th>29</th>\n",
       "      <td>70</td>\n",
       "      <td>Передние тормозные колодки</td>\n",
       "    </tr>\n",
       "    <tr>\n",
       "      <th>30</th>\n",
       "      <td>70</td>\n",
       "      <td>Основной аккумулятор</td>\n",
       "    </tr>\n",
       "    <tr>\n",
       "      <th>31</th>\n",
       "      <td>75</td>\n",
       "      <td>Моторное масло</td>\n",
       "    </tr>\n",
       "    <tr>\n",
       "      <th>32</th>\n",
       "      <td>75</td>\n",
       "      <td>Масляный фильтр ДВС</td>\n",
       "    </tr>\n",
       "    <tr>\n",
       "      <th>33</th>\n",
       "      <td>80</td>\n",
       "      <td>Рычаги подвески</td>\n",
       "    </tr>\n",
       "    <tr>\n",
       "      <th>34</th>\n",
       "      <td>80</td>\n",
       "      <td>Передние тормозные колодки</td>\n",
       "    </tr>\n",
       "    <tr>\n",
       "      <th>35</th>\n",
       "      <td>80</td>\n",
       "      <td>Фильтр салона</td>\n",
       "    </tr>\n",
       "    <tr>\n",
       "      <th>36</th>\n",
       "      <td>90</td>\n",
       "      <td>Свечи зажигания на моделях с бензиновым ДВС</td>\n",
       "    </tr>\n",
       "    <tr>\n",
       "      <th>37</th>\n",
       "      <td>90</td>\n",
       "      <td>Шрусы или их составные части</td>\n",
       "    </tr>\n",
       "    <tr>\n",
       "      <th>38</th>\n",
       "      <td>90</td>\n",
       "      <td>Передние тормозные колодки</td>\n",
       "    </tr>\n",
       "    <tr>\n",
       "      <th>39</th>\n",
       "      <td>90</td>\n",
       "      <td>Задние тормозные колодки</td>\n",
       "    </tr>\n",
       "    <tr>\n",
       "      <th>40</th>\n",
       "      <td>90</td>\n",
       "      <td>Моторное масло</td>\n",
       "    </tr>\n",
       "    <tr>\n",
       "      <th>41</th>\n",
       "      <td>90</td>\n",
       "      <td>Воздушный фильтр ДВС</td>\n",
       "    </tr>\n",
       "    <tr>\n",
       "      <th>42</th>\n",
       "      <td>90</td>\n",
       "      <td>Масляный фильтр ДВС</td>\n",
       "    </tr>\n",
       "    <tr>\n",
       "      <th>43</th>\n",
       "      <td>90</td>\n",
       "      <td>Топливный фильтр тонкой очистки</td>\n",
       "    </tr>\n",
       "  </tbody>\n",
       "</table>\n",
       "</div>"
      ],
      "text/plain": [
       "    receipt_number                                      product\n",
       "0               15                   Передние тормозные колодки\n",
       "1               15                               Моторное масло\n",
       "2               15                          Масляный фильтр ДВС\n",
       "3               20                                Фильтр салона\n",
       "4               30  Свечи зажигания на моделях с бензиновым ДВС\n",
       "5               30                   Передние тормозные колодки\n",
       "6               30                     Задние тормозные колодки\n",
       "7               30                               Моторное масло\n",
       "8               30                         Воздушный фильтр ДВС\n",
       "9               30                          Масляный фильтр ДВС\n",
       "10              30              Топливный фильтр тонкой очистки\n",
       "11              40                   Передние тормозные колодки\n",
       "12              40                                Фильтр салона\n",
       "13              45                               Моторное масло\n",
       "14              45                          Масляный фильтр ДВС\n",
       "15              50                   Передние тормозные колодки\n",
       "16              50                      Масло в коробке передач\n",
       "17              50                                 Жидкость ГУР\n",
       "18              50              Масляный фильтр коробки передач\n",
       "19              55                           Тормозная жидкость\n",
       "20              60  Свечи зажигания на моделях с бензиновым ДВС\n",
       "21              60                   Передние тормозные колодки\n",
       "22              60                     Задние тормозные колодки\n",
       "23              60                               Моторное масло\n",
       "24              60                         Воздушный фильтр ДВС\n",
       "25              60                          Масляный фильтр ДВС\n",
       "26              60              Топливный фильтр тонкой очистки\n",
       "27              60                                Фильтр салона\n",
       "28              70                             Приводной ремень\n",
       "29              70                   Передние тормозные колодки\n",
       "30              70                         Основной аккумулятор\n",
       "31              75                               Моторное масло\n",
       "32              75                          Масляный фильтр ДВС\n",
       "33              80                              Рычаги подвески\n",
       "34              80                   Передние тормозные колодки\n",
       "35              80                                Фильтр салона\n",
       "36              90  Свечи зажигания на моделях с бензиновым ДВС\n",
       "37              90                 Шрусы или их составные части\n",
       "38              90                   Передние тормозные колодки\n",
       "39              90                     Задние тормозные колодки\n",
       "40              90                               Моторное масло\n",
       "41              90                         Воздушный фильтр ДВС\n",
       "42              90                          Масляный фильтр ДВС\n",
       "43              90              Топливный фильтр тонкой очистки"
      ]
     },
     "execution_count": 4,
     "metadata": {},
     "output_type": "execute_result"
    }
   ],
   "source": [
    "data.head(99)"
   ]
  },
  {
   "cell_type": "code",
   "execution_count": 5,
   "id": "f173a058",
   "metadata": {},
   "outputs": [
    {
     "name": "stdout",
     "output_type": "stream",
     "text": [
      "12\n"
     ]
    },
    {
     "data": {
      "text/plain": [
       "array([15, 20, 30, 40, 45, 50, 55, 60, 70, 75, 80, 90], dtype=int64)"
      ]
     },
     "execution_count": 5,
     "metadata": {},
     "output_type": "execute_result"
    }
   ],
   "source": [
    "unique_receipts = data.receipt_number.unique()\n",
    "print(len(unique_receipts))\n",
    "unique_receipts"
   ]
  },
  {
   "cell_type": "code",
   "execution_count": 6,
   "id": "df9d75ee",
   "metadata": {},
   "outputs": [],
   "source": [
    "count_receipt = len(unique_receipts)"
   ]
  },
  {
   "cell_type": "code",
   "execution_count": 7,
   "id": "ba63fb11",
   "metadata": {},
   "outputs": [
    {
     "name": "stdout",
     "output_type": "stream",
     "text": [
      "16\n"
     ]
    },
    {
     "data": {
      "text/plain": [
       "array(['Передние тормозные колодки', 'Моторное масло',\n",
       "       'Масляный фильтр ДВС', 'Фильтр салона',\n",
       "       'Свечи зажигания на моделях с бензиновым ДВС',\n",
       "       'Задние тормозные колодки', 'Воздушный фильтр ДВС',\n",
       "       'Топливный фильтр тонкой очистки', 'Масло в коробке передач',\n",
       "       'Жидкость ГУР', 'Масляный фильтр коробки передач',\n",
       "       'Тормозная жидкость', 'Приводной ремень', 'Основной аккумулятор',\n",
       "       'Рычаги подвески', 'Шрусы или их составные части'], dtype=object)"
      ]
     },
     "execution_count": 7,
     "metadata": {},
     "output_type": "execute_result"
    }
   ],
   "source": [
    "unique_products = data['product'].unique()\n",
    "print(len(unique_products))\n",
    "unique_products"
   ]
  },
  {
   "cell_type": "code",
   "execution_count": 8,
   "id": "f878431c",
   "metadata": {},
   "outputs": [
    {
     "data": {
      "text/plain": [
       "array([[15, 'Передние тормозные колодки'],\n",
       "       [15, 'Моторное масло'],\n",
       "       [15, 'Масляный фильтр ДВС'],\n",
       "       [20, 'Фильтр салона'],\n",
       "       [30, 'Свечи зажигания на моделях с бензиновым ДВС']], dtype=object)"
      ]
     },
     "execution_count": 8,
     "metadata": {},
     "output_type": "execute_result"
    }
   ],
   "source": [
    "data_np = data.to_numpy()\n",
    "data_np[:5]"
   ]
  },
  {
   "cell_type": "code",
   "execution_count": 9,
   "id": "d5a0bfbc",
   "metadata": {},
   "outputs": [
    {
     "data": {
      "text/plain": [
       "[['Передние тормозные колодки', 'Моторное масло', 'Масляный фильтр ДВС'],\n",
       " ['Фильтр салона'],\n",
       " ['Свечи зажигания на моделях с бензиновым ДВС',\n",
       "  'Передние тормозные колодки',\n",
       "  'Задние тормозные колодки',\n",
       "  'Моторное масло',\n",
       "  'Воздушный фильтр ДВС',\n",
       "  'Масляный фильтр ДВС',\n",
       "  'Топливный фильтр тонкой очистки'],\n",
       " ['Передние тормозные колодки', 'Фильтр салона'],\n",
       " ['Моторное масло', 'Масляный фильтр ДВС'],\n",
       " ['Передние тормозные колодки',\n",
       "  'Масло в коробке передач',\n",
       "  'Жидкость ГУР',\n",
       "  'Масляный фильтр коробки передач'],\n",
       " ['Тормозная жидкость'],\n",
       " ['Свечи зажигания на моделях с бензиновым ДВС',\n",
       "  'Передние тормозные колодки',\n",
       "  'Задние тормозные колодки',\n",
       "  'Моторное масло',\n",
       "  'Воздушный фильтр ДВС',\n",
       "  'Масляный фильтр ДВС',\n",
       "  'Топливный фильтр тонкой очистки',\n",
       "  'Фильтр салона'],\n",
       " ['Приводной ремень', 'Передние тормозные колодки', 'Основной аккумулятор'],\n",
       " ['Моторное масло', 'Масляный фильтр ДВС'],\n",
       " ['Рычаги подвески', 'Передние тормозные колодки', 'Фильтр салона'],\n",
       " ['Свечи зажигания на моделях с бензиновым ДВС',\n",
       "  'Шрусы или их составные части',\n",
       "  'Передние тормозные колодки',\n",
       "  'Задние тормозные колодки',\n",
       "  'Моторное масло',\n",
       "  'Воздушный фильтр ДВС',\n",
       "  'Масляный фильтр ДВС',\n",
       "  'Топливный фильтр тонкой очистки']]"
      ]
     },
     "execution_count": 9,
     "metadata": {},
     "output_type": "execute_result"
    }
   ],
   "source": [
    "group_products_receipts = []\n",
    "for i in unique_receipts:\n",
    "    micro_data = []\n",
    "    for j in data_np:\n",
    "        if j[0] == i:\n",
    "            micro_data.append(j[1])\n",
    "    group_products_receipts.append(micro_data)\n",
    "group_products_receipts"
   ]
  },
  {
   "cell_type": "code",
   "execution_count": 10,
   "id": "16677d49",
   "metadata": {},
   "outputs": [
    {
     "data": {
      "text/html": [
       "<div>\n",
       "<style scoped>\n",
       "    .dataframe tbody tr th:only-of-type {\n",
       "        vertical-align: middle;\n",
       "    }\n",
       "\n",
       "    .dataframe tbody tr th {\n",
       "        vertical-align: top;\n",
       "    }\n",
       "\n",
       "    .dataframe thead th {\n",
       "        text-align: right;\n",
       "    }\n",
       "</style>\n",
       "<table border=\"1\" class=\"dataframe\">\n",
       "  <thead>\n",
       "    <tr style=\"text-align: right;\">\n",
       "      <th></th>\n",
       "      <th>receipt</th>\n",
       "      <th>product</th>\n",
       "    </tr>\n",
       "  </thead>\n",
       "  <tbody>\n",
       "    <tr>\n",
       "      <th>0</th>\n",
       "      <td>15</td>\n",
       "      <td>[Передние тормозные колодки, Моторное масло, М...</td>\n",
       "    </tr>\n",
       "    <tr>\n",
       "      <th>1</th>\n",
       "      <td>20</td>\n",
       "      <td>[Фильтр салона]</td>\n",
       "    </tr>\n",
       "    <tr>\n",
       "      <th>2</th>\n",
       "      <td>30</td>\n",
       "      <td>[Свечи зажигания на моделях с бензиновым ДВС, ...</td>\n",
       "    </tr>\n",
       "    <tr>\n",
       "      <th>3</th>\n",
       "      <td>40</td>\n",
       "      <td>[Передние тормозные колодки, Фильтр салона]</td>\n",
       "    </tr>\n",
       "    <tr>\n",
       "      <th>4</th>\n",
       "      <td>45</td>\n",
       "      <td>[Моторное масло, Масляный фильтр ДВС]</td>\n",
       "    </tr>\n",
       "    <tr>\n",
       "      <th>5</th>\n",
       "      <td>50</td>\n",
       "      <td>[Передние тормозные колодки, Масло в коробке п...</td>\n",
       "    </tr>\n",
       "    <tr>\n",
       "      <th>6</th>\n",
       "      <td>55</td>\n",
       "      <td>[Тормозная жидкость]</td>\n",
       "    </tr>\n",
       "    <tr>\n",
       "      <th>7</th>\n",
       "      <td>60</td>\n",
       "      <td>[Свечи зажигания на моделях с бензиновым ДВС, ...</td>\n",
       "    </tr>\n",
       "    <tr>\n",
       "      <th>8</th>\n",
       "      <td>70</td>\n",
       "      <td>[Приводной ремень, Передние тормозные колодки,...</td>\n",
       "    </tr>\n",
       "    <tr>\n",
       "      <th>9</th>\n",
       "      <td>75</td>\n",
       "      <td>[Моторное масло, Масляный фильтр ДВС]</td>\n",
       "    </tr>\n",
       "    <tr>\n",
       "      <th>10</th>\n",
       "      <td>80</td>\n",
       "      <td>[Рычаги подвески, Передние тормозные колодки, ...</td>\n",
       "    </tr>\n",
       "    <tr>\n",
       "      <th>11</th>\n",
       "      <td>90</td>\n",
       "      <td>[Свечи зажигания на моделях с бензиновым ДВС, ...</td>\n",
       "    </tr>\n",
       "  </tbody>\n",
       "</table>\n",
       "</div>"
      ],
      "text/plain": [
       "    receipt                                            product\n",
       "0        15  [Передние тормозные колодки, Моторное масло, М...\n",
       "1        20                                    [Фильтр салона]\n",
       "2        30  [Свечи зажигания на моделях с бензиновым ДВС, ...\n",
       "3        40        [Передние тормозные колодки, Фильтр салона]\n",
       "4        45              [Моторное масло, Масляный фильтр ДВС]\n",
       "5        50  [Передние тормозные колодки, Масло в коробке п...\n",
       "6        55                               [Тормозная жидкость]\n",
       "7        60  [Свечи зажигания на моделях с бензиновым ДВС, ...\n",
       "8        70  [Приводной ремень, Передние тормозные колодки,...\n",
       "9        75              [Моторное масло, Масляный фильтр ДВС]\n",
       "10       80  [Рычаги подвески, Передние тормозные колодки, ...\n",
       "11       90  [Свечи зажигания на моделях с бензиновым ДВС, ..."
      ]
     },
     "execution_count": 10,
     "metadata": {},
     "output_type": "execute_result"
    }
   ],
   "source": [
    "dataframe = pd.DataFrame({'receipt' : unique_receipts,\n",
    "                  \n",
    "                          'product' : group_products_receipts}, \n",
    "                                columns=['receipt','product'])\n",
    "dataframe"
   ]
  },
  {
   "cell_type": "code",
   "execution_count": 11,
   "id": "0563a5a7",
   "metadata": {},
   "outputs": [],
   "source": [
    "mass_group_products = []\n",
    "for i in range(len(unique_products)-1):\n",
    "    for j in range(i + 1, len(unique_products)):\n",
    "        \n",
    "        mass_group_products.append([[unique_products[i]],[unique_products[j]]])\n",
    "        mass_for_two = [unique_products[i], unique_products[j]]\n",
    "        for two in unique_products:\n",
    "            if two not in mass_for_two:\n",
    "                mass_group_products.append([mass_for_two, [two]])\n",
    "            \n",
    "        mass_for_three = [mass_for_two[0], mass_for_two[1], two]\n",
    "        for three in unique_products:\n",
    "            if three not in mass_for_three:\n",
    "                mass_group_products.append([mass_for_three, [three]])\n",
    "        \n",
    "        mass_for_four = [mass_for_three[0], mass_for_three[1],  mass_for_three[2],  three]\n",
    "        for four in unique_products:\n",
    "             if four not in mass_for_four:\n",
    "                mass_group_products.append([mass_for_four, [four]])"
   ]
  },
  {
   "cell_type": "code",
   "execution_count": 77,
   "id": "f0ad2ce4",
   "metadata": {},
   "outputs": [],
   "source": [
    "n = len(unique_products)\n",
    "mass_group_products = []\n",
    "for i in range(len(unique_products)-1):\n",
    "    for j in range(i + 1, len(unique_products)):\n",
    "        mass_group_products.append([[unique_products[i]], [unique_products[j]]])\n",
    "        mass_group_products.append([[unique_products[j]], [unique_products[i]]])\n",
    "\n",
    "        mass_for_two = [unique_products[i], unique_products[j]]\n",
    "        if j <= n - 2:\n",
    "            for two in unique_products:\n",
    "                if two not in mass_for_two:\n",
    "                    mass_group_products.append([mass_for_two, [two]])\n",
    "                    for two_two in unique_products:\n",
    "                        if two_two not in mass_for_two and two:\n",
    "                            mass_group_products.append([[mass_for_two[0], mass_for_two[1]], [two, two_two]])\n",
    "                            for two_three in unique_products:\n",
    "                                if two_three not in mass_for_two \\\n",
    "                                        and two_two not in mass_for_two and two_three not in mass_for_two:\n",
    "                                    mass_group_products.append(\n",
    "                                        [[mass_for_two[0], mass_for_two[1]], [two, two_two, two_three]])\n",
    "                                    for two_four in unique_products:\n",
    "                                        if two_four not in mass_for_two \\\n",
    "                                                and two_two not in mass_for_two\\\n",
    "                                                and two_three not in mass_for_two\\\n",
    "                                                and two not in mass_for_two:\n",
    "                                            mass_group_products.append(\n",
    "                                                [[mass_for_two[0], mass_for_two[1]],\n",
    "                                                 [two, two_two, two_three, two_four]])\n",
    "\n",
    "        else:\n",
    "            for two in range(len(unique_products), 0):\n",
    "                if unique_products[two] not in mass_for_two:\n",
    "                    mass_group_products.append([mass_for_two, [two]])\n",
    "                    for two_two in unique_products:\n",
    "                        if two_two not in mass_for_two and two not in mass_for_two:\n",
    "                            mass_group_products.append([[mass_for_two[0], mass_for_two[1]], [two, two_two]])"
   ]
  },
  {
   "cell_type": "code",
   "execution_count": 93,
   "id": "8de723e7",
   "metadata": {
    "scrolled": false
   },
   "outputs": [
    {
     "name": "stdout",
     "output_type": "stream",
     "text": [
      "Создание 0//12\n",
      "0\n",
      "Создание 1//12\n",
      "54\n",
      "Создание 2//12\n",
      "54\n",
      "Создание 3//12\n",
      "1168494\n",
      "Создание 4//12\n",
      "1168494\n",
      "Создание 5//12\n",
      "1168494\n",
      "Создание 6//12\n",
      "1169922\n",
      "Создание 7//12\n",
      "1169922\n",
      "Создание 8//12\n",
      "5280154\n",
      "Создание 9//12\n",
      "5280208\n",
      "Создание 10//12\n",
      "5280208\n",
      "Создание 11//12\n",
      "5280262\n"
     ]
    }
   ],
   "source": [
    "mass_group_products = []\n",
    "mass_to_del = []\n",
    "\n",
    "for item in range(len(group_products_receipts)):\n",
    "    start_massive = []\n",
    "    for i in group_products_receipts[item]:\n",
    "        start_massive.append(i)\n",
    "    unique_change = []\n",
    "    print(f'Создание {item}//{len(group_products_receipts)}')\n",
    "    if len(start_massive) <= 5:\n",
    "        long = len(start_massive)\n",
    "    else:\n",
    "        long = 5\n",
    "    for j in range(1, long):\n",
    "        massive_j = itertools.permutations(start_massive, j)\n",
    "        for k in massive_j:\n",
    "            elem_k = []\n",
    "            for k_el in k:\n",
    "                elem_k.append(k_el)\n",
    "            # print(type(elem_k[0]), type('s'))\n",
    "            # if type(elem_k[0]) != type('s'):\n",
    "            unique_change.append(elem_k)\n",
    "    print(len(mass_group_products))\n",
    "    # print(mass_group_product)\n",
    "    # exit(123)\n",
    "    for i in range(len(unique_change)):\n",
    "        for j in range(len(unique_change)):\n",
    "            if unique_change[i] != unique_change[j] and not set(unique_change[j]).isdisjoint(unique_change[i]) \\\n",
    "                    and not set(unique_change[i]).isdisjoint(unique_change[j]) and \\\n",
    "                    len(set(unique_change[i])) == len(unique_change[i]) and \\\n",
    "                    len(set(unique_change[j])) == len(unique_change[j]):\n",
    "                mass_group_products.append([unique_change[i], unique_change[j]])\n",
    "new_mass = []\n",
    "for i in mass_group_products:\n",
    "    if i not in new_mass:\n",
    "        new_mass.append(i)"
   ]
  },
  {
   "cell_type": "code",
   "execution_count": 94,
   "id": "1f48880d",
   "metadata": {},
   "outputs": [
    {
     "data": {
      "text/plain": [
       "9390494"
      ]
     },
     "execution_count": 94,
     "metadata": {},
     "output_type": "execute_result"
    }
   ],
   "source": [
    "len(mass_group_products)"
   ]
  },
  {
   "cell_type": "code",
   "execution_count": 95,
   "id": "e3e8b3f0",
   "metadata": {},
   "outputs": [
    {
     "data": {
      "text/plain": [
       "[['Передние тормозные колодки'],\n",
       " ['Передние тормозные колодки', 'Моторное масло']]"
      ]
     },
     "execution_count": 95,
     "metadata": {},
     "output_type": "execute_result"
    }
   ],
   "source": [
    "mass_group_products[0]"
   ]
  },
  {
   "cell_type": "code",
   "execution_count": 96,
   "id": "f08f861f",
   "metadata": {},
   "outputs": [
    {
     "name": "stdout",
     "output_type": "stream",
     "text": [
      "400/12 = 33.33\n"
     ]
    }
   ],
   "source": [
    "for i in range(len(mass_group_products)):\n",
    "    count = 0\n",
    "    for j in group_products_receipts:\n",
    "        if set(mass_group_products[i][0]).issubset(j) and set(mass_group_products[i][1]).issubset(j):\n",
    "            count += 1\n",
    "    if i == 0:\n",
    "        print(f'{count*100}/{count_receipt} = {round((count*100/count_receipt),2)}')\n",
    "    mass_group_products[i].append((round((count*100/count_receipt),2)))"
   ]
  },
  {
   "cell_type": "code",
   "execution_count": 97,
   "id": "0b186cd9",
   "metadata": {},
   "outputs": [
    {
     "data": {
      "text/plain": [
       "[[['Передние тормозные колодки'],\n",
       "  ['Передние тормозные колодки', 'Моторное масло'],\n",
       "  33.33],\n",
       " [['Передние тормозные колодки'],\n",
       "  ['Передние тормозные колодки', 'Масляный фильтр ДВС'],\n",
       "  33.33],\n",
       " [['Передние тормозные колодки'],\n",
       "  ['Моторное масло', 'Передние тормозные колодки'],\n",
       "  33.33]]"
      ]
     },
     "execution_count": 97,
     "metadata": {},
     "output_type": "execute_result"
    }
   ],
   "source": [
    "mass_group_products[:3]"
   ]
  },
  {
   "cell_type": "code",
   "execution_count": 98,
   "id": "4eb14427",
   "metadata": {},
   "outputs": [
    {
     "name": "stdout",
     "output_type": "stream",
     "text": [
      "4/8 = 50.0\n"
     ]
    }
   ],
   "source": [
    "for i in range(len(mass_group_products)):\n",
    "    count_one = 0\n",
    "    count_two = 0\n",
    "    for j in group_products_receipts:\n",
    "        if set(mass_group_products[i][0]).issubset(j) and set(mass_group_products[i][1]).issubset(j):\n",
    "            count_one += 1\n",
    "    for j in group_products_receipts:\n",
    "        if set(mass_group_products[i][0]).issubset(j):\n",
    "            count_two += 1\n",
    "    if i == 0:\n",
    "        print(f'{count_one}/{count_two} = {round((count_one*100/count_two),2)}')\n",
    "    if count_two != 0:\n",
    "        mass_group_products[i].append((round((count_one*100/count_two),2)))\n",
    "    else:\n",
    "        mass_group_products[i].append(0)"
   ]
  },
  {
   "cell_type": "code",
   "execution_count": 99,
   "id": "536df694",
   "metadata": {},
   "outputs": [
    {
     "data": {
      "text/plain": [
       "[[['Передние тормозные колодки'],\n",
       "  ['Передние тормозные колодки', 'Моторное масло'],\n",
       "  33.33,\n",
       "  50.0],\n",
       " [['Передние тормозные колодки'],\n",
       "  ['Передние тормозные колодки', 'Масляный фильтр ДВС'],\n",
       "  33.33,\n",
       "  50.0],\n",
       " [['Передние тормозные колодки'],\n",
       "  ['Моторное масло', 'Передние тормозные колодки'],\n",
       "  33.33,\n",
       "  50.0]]"
      ]
     },
     "execution_count": 99,
     "metadata": {},
     "output_type": "execute_result"
    }
   ],
   "source": [
    "mass_group_products[:3]"
   ]
  },
  {
   "cell_type": "code",
   "execution_count": 100,
   "id": "ba924d56",
   "metadata": {},
   "outputs": [
    {
     "name": "stdout",
     "output_type": "stream",
     "text": [
      "50.0/0.3333333333333333 = 1.5\n"
     ]
    }
   ],
   "source": [
    "for i in range(len(mass_group_products)):\n",
    "    count_one = 0\n",
    "    for j in group_products_receipts:\n",
    "        if set(mass_group_products[i][1]).issubset(j):\n",
    "            count_one += 1\n",
    "    if i == 0:\n",
    "        print(f'{mass_group_products[i][-1]}/{count_one/count_receipt} = {round(mass_group_products[i][-1]/(count_one*100/count_receipt),2)}')\n",
    "    \n",
    "    if (count_one*100/count_receipt) != 0:\n",
    "        mass_group_products[i].append((round(mass_group_products[i][-1]/(count_one*100/count_receipt),2)))\n",
    "    else:\n",
    "        mass_group_products[i].append(0)"
   ]
  },
  {
   "cell_type": "code",
   "execution_count": 101,
   "id": "1df9881b",
   "metadata": {},
   "outputs": [
    {
     "data": {
      "text/plain": [
       "[[['Передние тормозные колодки'],\n",
       "  ['Передние тормозные колодки', 'Моторное масло'],\n",
       "  33.33,\n",
       "  50.0,\n",
       "  1.5],\n",
       " [['Передние тормозные колодки'],\n",
       "  ['Передние тормозные колодки', 'Масляный фильтр ДВС'],\n",
       "  33.33,\n",
       "  50.0,\n",
       "  1.5],\n",
       " [['Передние тормозные колодки'],\n",
       "  ['Моторное масло', 'Передние тормозные колодки'],\n",
       "  33.33,\n",
       "  50.0,\n",
       "  1.5]]"
      ]
     },
     "execution_count": 101,
     "metadata": {},
     "output_type": "execute_result"
    }
   ],
   "source": [
    "mass_group_products[:3]"
   ]
  },
  {
   "cell_type": "code",
   "execution_count": 102,
   "id": "6db843bd",
   "metadata": {},
   "outputs": [],
   "source": [
    "name_for_index = []\n",
    "for i in range(len(mass_group_products)):\n",
    "    name_A = ''\n",
    "    name_B = ''\n",
    "    for k in range(len(mass_group_products[i][0])):\n",
    "        len_name = len(mass_group_products[i][0])\n",
    "        if k != len_name - 1 and len_name != 1:\n",
    "            name_A += f'{mass_group_products[i][0][k]}, '\n",
    "        else:\n",
    "            name_A += f'{mass_group_products[i][0][k]}'\n",
    "    name_B = mass_group_products[i][1][0]\n",
    "    string = f'{name_A} | {name_B}'\n",
    "    name_for_index.append(string)"
   ]
  },
  {
   "cell_type": "code",
   "execution_count": 103,
   "id": "9d0c4134",
   "metadata": {},
   "outputs": [
    {
     "data": {
      "text/plain": [
       "['Передние тормозные колодки | Передние тормозные колодки',\n",
       " 'Передние тормозные колодки | Передние тормозные колодки',\n",
       " 'Передние тормозные колодки | Моторное масло',\n",
       " 'Передние тормозные колодки | Масляный фильтр ДВС',\n",
       " 'Моторное масло | Передние тормозные колодки']"
      ]
     },
     "execution_count": 103,
     "metadata": {},
     "output_type": "execute_result"
    }
   ],
   "source": [
    "name_for_index[:5]"
   ]
  },
  {
   "cell_type": "code",
   "execution_count": 104,
   "id": "e3587c04",
   "metadata": {},
   "outputs": [
    {
     "data": {
      "text/plain": [
       "[[33.33, 50.0, 1.5],\n",
       " [33.33, 50.0, 1.5],\n",
       " [33.33, 50.0, 1.5],\n",
       " [33.33, 50.0, 1.5],\n",
       " [33.33, 66.67, 2.0]]"
      ]
     },
     "execution_count": 104,
     "metadata": {},
     "output_type": "execute_result"
    }
   ],
   "source": [
    "dataframe = []\n",
    "for i in range(len(mass_group_products)):\n",
    "    mass = []\n",
    "    for j in range(len(mass_group_products[i])):\n",
    "        if j != 0 and j != 1:\n",
    "            mass.append(mass_group_products[i][j])\n",
    "    dataframe.append(mass)\n",
    "dataframe[:5]"
   ]
  },
  {
   "cell_type": "code",
   "execution_count": 105,
   "id": "7e22f27a",
   "metadata": {},
   "outputs": [
    {
     "data": {
      "text/plain": [
       "31758"
      ]
     },
     "execution_count": 105,
     "metadata": {},
     "output_type": "execute_result"
    }
   ],
   "source": [
    "Dataframe = pd.DataFrame(dataframe, columns =['Suported', 'Reliability', 'Lift'], index=name_for_index)\n",
    "Dataframe = (Dataframe.loc[Dataframe.Suported < 89]) \n",
    "Dataframe = (Dataframe.loc[20 < Dataframe.Suported]) \n",
    "Dataframe = (Dataframe.loc[30 < Dataframe.Reliability]) \n",
    "Dataframe = (Dataframe.loc[Dataframe.Reliability < 70])\n",
    "Dataframe.size"
   ]
  },
  {
   "cell_type": "code",
   "execution_count": 106,
   "id": "36edaf90",
   "metadata": {},
   "outputs": [
    {
     "data": {
      "text/html": [
       "<div>\n",
       "<style scoped>\n",
       "    .dataframe tbody tr th:only-of-type {\n",
       "        vertical-align: middle;\n",
       "    }\n",
       "\n",
       "    .dataframe tbody tr th {\n",
       "        vertical-align: top;\n",
       "    }\n",
       "\n",
       "    .dataframe thead th {\n",
       "        text-align: right;\n",
       "    }\n",
       "</style>\n",
       "<table border=\"1\" class=\"dataframe\">\n",
       "  <thead>\n",
       "    <tr style=\"text-align: right;\">\n",
       "      <th></th>\n",
       "      <th>Suported</th>\n",
       "      <th>Reliability</th>\n",
       "      <th>Lift</th>\n",
       "    </tr>\n",
       "  </thead>\n",
       "  <tbody>\n",
       "    <tr>\n",
       "      <th>Моторное масло, Масляный фильтр ДВС | Воздушный фильтр ДВС</th>\n",
       "      <td>25.00</td>\n",
       "      <td>50.0</td>\n",
       "      <td>2.0</td>\n",
       "    </tr>\n",
       "    <tr>\n",
       "      <th>Масляный фильтр ДВС, Моторное масло | Моторное масло</th>\n",
       "      <td>25.00</td>\n",
       "      <td>50.0</td>\n",
       "      <td>2.0</td>\n",
       "    </tr>\n",
       "    <tr>\n",
       "      <th>Масляный фильтр ДВС, Моторное масло | Моторное масло</th>\n",
       "      <td>25.00</td>\n",
       "      <td>50.0</td>\n",
       "      <td>2.0</td>\n",
       "    </tr>\n",
       "    <tr>\n",
       "      <th>Масляный фильтр ДВС, Моторное масло | Моторное масло</th>\n",
       "      <td>25.00</td>\n",
       "      <td>50.0</td>\n",
       "      <td>2.0</td>\n",
       "    </tr>\n",
       "    <tr>\n",
       "      <th>Масляный фильтр ДВС, Моторное масло | Моторное масло</th>\n",
       "      <td>25.00</td>\n",
       "      <td>50.0</td>\n",
       "      <td>2.0</td>\n",
       "    </tr>\n",
       "    <tr>\n",
       "      <th>...</th>\n",
       "      <td>...</td>\n",
       "      <td>...</td>\n",
       "      <td>...</td>\n",
       "    </tr>\n",
       "    <tr>\n",
       "      <th>Передние тормозные колодки | Передние тормозные колодки</th>\n",
       "      <td>25.00</td>\n",
       "      <td>37.5</td>\n",
       "      <td>1.5</td>\n",
       "    </tr>\n",
       "    <tr>\n",
       "      <th>Передние тормозные колодки | Передние тормозные колодки</th>\n",
       "      <td>25.00</td>\n",
       "      <td>37.5</td>\n",
       "      <td>1.5</td>\n",
       "    </tr>\n",
       "    <tr>\n",
       "      <th>Передние тормозные колодки | Передние тормозные колодки</th>\n",
       "      <td>25.00</td>\n",
       "      <td>37.5</td>\n",
       "      <td>1.5</td>\n",
       "    </tr>\n",
       "    <tr>\n",
       "      <th>Передние тормозные колодки | Передние тормозные колодки</th>\n",
       "      <td>25.00</td>\n",
       "      <td>37.5</td>\n",
       "      <td>1.5</td>\n",
       "    </tr>\n",
       "    <tr>\n",
       "      <th>Передние тормозные колодки | Передние тормозные колодки</th>\n",
       "      <td>33.33</td>\n",
       "      <td>50.0</td>\n",
       "      <td>1.5</td>\n",
       "    </tr>\n",
       "  </tbody>\n",
       "</table>\n",
       "<p>10586 rows × 3 columns</p>\n",
       "</div>"
      ],
      "text/plain": [
       "                                                    Suported  Reliability  \\\n",
       "Моторное масло, Масляный фильтр ДВС | Воздушный...     25.00         50.0   \n",
       "Масляный фильтр ДВС, Моторное масло | Моторное ...     25.00         50.0   \n",
       "Масляный фильтр ДВС, Моторное масло | Моторное ...     25.00         50.0   \n",
       "Масляный фильтр ДВС, Моторное масло | Моторное ...     25.00         50.0   \n",
       "Масляный фильтр ДВС, Моторное масло | Моторное ...     25.00         50.0   \n",
       "...                                                      ...          ...   \n",
       "Передние тормозные колодки | Передние тормозные...     25.00         37.5   \n",
       "Передние тормозные колодки | Передние тормозные...     25.00         37.5   \n",
       "Передние тормозные колодки | Передние тормозные...     25.00         37.5   \n",
       "Передние тормозные колодки | Передние тормозные...     25.00         37.5   \n",
       "Передние тормозные колодки | Передние тормозные...     33.33         50.0   \n",
       "\n",
       "                                                    Lift  \n",
       "Моторное масло, Масляный фильтр ДВС | Воздушный...   2.0  \n",
       "Масляный фильтр ДВС, Моторное масло | Моторное ...   2.0  \n",
       "Масляный фильтр ДВС, Моторное масло | Моторное ...   2.0  \n",
       "Масляный фильтр ДВС, Моторное масло | Моторное ...   2.0  \n",
       "Масляный фильтр ДВС, Моторное масло | Моторное ...   2.0  \n",
       "...                                                  ...  \n",
       "Передние тормозные колодки | Передние тормозные...   1.5  \n",
       "Передние тормозные колодки | Передние тормозные...   1.5  \n",
       "Передние тормозные колодки | Передние тормозные...   1.5  \n",
       "Передние тормозные колодки | Передние тормозные...   1.5  \n",
       "Передние тормозные колодки | Передние тормозные...   1.5  \n",
       "\n",
       "[10586 rows x 3 columns]"
      ]
     },
     "execution_count": 106,
     "metadata": {},
     "output_type": "execute_result"
    }
   ],
   "source": [
    "Dataframe.sort_values('Lift', ascending=False)"
   ]
  },
  {
   "cell_type": "code",
   "execution_count": 107,
   "id": "dc65aba9",
   "metadata": {},
   "outputs": [
    {
     "data": {
      "text/html": [
       "<div>\n",
       "<style scoped>\n",
       "    .dataframe tbody tr th:only-of-type {\n",
       "        vertical-align: middle;\n",
       "    }\n",
       "\n",
       "    .dataframe tbody tr th {\n",
       "        vertical-align: top;\n",
       "    }\n",
       "\n",
       "    .dataframe thead th {\n",
       "        text-align: right;\n",
       "    }\n",
       "</style>\n",
       "<table border=\"1\" class=\"dataframe\">\n",
       "  <thead>\n",
       "    <tr style=\"text-align: right;\">\n",
       "      <th></th>\n",
       "      <th>Suported</th>\n",
       "      <th>Reliability</th>\n",
       "      <th>Lift</th>\n",
       "    </tr>\n",
       "  </thead>\n",
       "  <tbody>\n",
       "    <tr>\n",
       "      <th>Масляный фильтр ДВС, Моторное масло | Топливный фильтр тонкой очистки</th>\n",
       "      <td>25.0</td>\n",
       "      <td>50.0</td>\n",
       "      <td>2.0</td>\n",
       "    </tr>\n",
       "    <tr>\n",
       "      <th>Масляный фильтр ДВС, Моторное масло | Топливный фильтр тонкой очистки</th>\n",
       "      <td>25.0</td>\n",
       "      <td>50.0</td>\n",
       "      <td>2.0</td>\n",
       "    </tr>\n",
       "    <tr>\n",
       "      <th>Масляный фильтр ДВС, Моторное масло | Топливный фильтр тонкой очистки</th>\n",
       "      <td>25.0</td>\n",
       "      <td>50.0</td>\n",
       "      <td>2.0</td>\n",
       "    </tr>\n",
       "    <tr>\n",
       "      <th>Масляный фильтр ДВС, Моторное масло | Топливный фильтр тонкой очистки</th>\n",
       "      <td>25.0</td>\n",
       "      <td>50.0</td>\n",
       "      <td>2.0</td>\n",
       "    </tr>\n",
       "    <tr>\n",
       "      <th>Масляный фильтр ДВС, Моторное масло | Топливный фильтр тонкой очистки</th>\n",
       "      <td>25.0</td>\n",
       "      <td>50.0</td>\n",
       "      <td>2.0</td>\n",
       "    </tr>\n",
       "    <tr>\n",
       "      <th>Масляный фильтр ДВС, Моторное масло | Топливный фильтр тонкой очистки</th>\n",
       "      <td>25.0</td>\n",
       "      <td>50.0</td>\n",
       "      <td>2.0</td>\n",
       "    </tr>\n",
       "    <tr>\n",
       "      <th>Масляный фильтр ДВС, Моторное масло | Топливный фильтр тонкой очистки</th>\n",
       "      <td>25.0</td>\n",
       "      <td>50.0</td>\n",
       "      <td>2.0</td>\n",
       "    </tr>\n",
       "    <tr>\n",
       "      <th>Масляный фильтр ДВС, Моторное масло | Топливный фильтр тонкой очистки</th>\n",
       "      <td>25.0</td>\n",
       "      <td>50.0</td>\n",
       "      <td>2.0</td>\n",
       "    </tr>\n",
       "    <tr>\n",
       "      <th>Масляный фильтр ДВС, Моторное масло | Топливный фильтр тонкой очистки</th>\n",
       "      <td>25.0</td>\n",
       "      <td>50.0</td>\n",
       "      <td>2.0</td>\n",
       "    </tr>\n",
       "    <tr>\n",
       "      <th>Масляный фильтр ДВС, Моторное масло | Топливный фильтр тонкой очистки</th>\n",
       "      <td>25.0</td>\n",
       "      <td>50.0</td>\n",
       "      <td>2.0</td>\n",
       "    </tr>\n",
       "    <tr>\n",
       "      <th>Масляный фильтр ДВС, Моторное масло | Топливный фильтр тонкой очистки</th>\n",
       "      <td>25.0</td>\n",
       "      <td>50.0</td>\n",
       "      <td>2.0</td>\n",
       "    </tr>\n",
       "    <tr>\n",
       "      <th>Масляный фильтр ДВС, Моторное масло | Топливный фильтр тонкой очистки</th>\n",
       "      <td>25.0</td>\n",
       "      <td>50.0</td>\n",
       "      <td>2.0</td>\n",
       "    </tr>\n",
       "    <tr>\n",
       "      <th>Масляный фильтр ДВС, Моторное масло | Топливный фильтр тонкой очистки</th>\n",
       "      <td>25.0</td>\n",
       "      <td>50.0</td>\n",
       "      <td>2.0</td>\n",
       "    </tr>\n",
       "    <tr>\n",
       "      <th>Масляный фильтр ДВС, Моторное масло | Топливный фильтр тонкой очистки</th>\n",
       "      <td>25.0</td>\n",
       "      <td>50.0</td>\n",
       "      <td>2.0</td>\n",
       "    </tr>\n",
       "    <tr>\n",
       "      <th>Масляный фильтр ДВС, Моторное масло | Топливный фильтр тонкой очистки</th>\n",
       "      <td>25.0</td>\n",
       "      <td>50.0</td>\n",
       "      <td>2.0</td>\n",
       "    </tr>\n",
       "    <tr>\n",
       "      <th>Масляный фильтр ДВС, Моторное масло | Топливный фильтр тонкой очистки</th>\n",
       "      <td>25.0</td>\n",
       "      <td>50.0</td>\n",
       "      <td>2.0</td>\n",
       "    </tr>\n",
       "    <tr>\n",
       "      <th>Масляный фильтр ДВС, Моторное масло | Топливный фильтр тонкой очистки</th>\n",
       "      <td>25.0</td>\n",
       "      <td>50.0</td>\n",
       "      <td>2.0</td>\n",
       "    </tr>\n",
       "    <tr>\n",
       "      <th>Масляный фильтр ДВС, Моторное масло | Топливный фильтр тонкой очистки</th>\n",
       "      <td>25.0</td>\n",
       "      <td>50.0</td>\n",
       "      <td>2.0</td>\n",
       "    </tr>\n",
       "    <tr>\n",
       "      <th>Масляный фильтр ДВС, Моторное масло | Топливный фильтр тонкой очистки</th>\n",
       "      <td>25.0</td>\n",
       "      <td>50.0</td>\n",
       "      <td>2.0</td>\n",
       "    </tr>\n",
       "    <tr>\n",
       "      <th>Масляный фильтр ДВС, Моторное масло | Топливный фильтр тонкой очистки</th>\n",
       "      <td>25.0</td>\n",
       "      <td>50.0</td>\n",
       "      <td>2.0</td>\n",
       "    </tr>\n",
       "  </tbody>\n",
       "</table>\n",
       "</div>"
      ],
      "text/plain": [
       "                                                    Suported  Reliability  \\\n",
       "Масляный фильтр ДВС, Моторное масло | Топливный...      25.0         50.0   \n",
       "Масляный фильтр ДВС, Моторное масло | Топливный...      25.0         50.0   \n",
       "Масляный фильтр ДВС, Моторное масло | Топливный...      25.0         50.0   \n",
       "Масляный фильтр ДВС, Моторное масло | Топливный...      25.0         50.0   \n",
       "Масляный фильтр ДВС, Моторное масло | Топливный...      25.0         50.0   \n",
       "Масляный фильтр ДВС, Моторное масло | Топливный...      25.0         50.0   \n",
       "Масляный фильтр ДВС, Моторное масло | Топливный...      25.0         50.0   \n",
       "Масляный фильтр ДВС, Моторное масло | Топливный...      25.0         50.0   \n",
       "Масляный фильтр ДВС, Моторное масло | Топливный...      25.0         50.0   \n",
       "Масляный фильтр ДВС, Моторное масло | Топливный...      25.0         50.0   \n",
       "Масляный фильтр ДВС, Моторное масло | Топливный...      25.0         50.0   \n",
       "Масляный фильтр ДВС, Моторное масло | Топливный...      25.0         50.0   \n",
       "Масляный фильтр ДВС, Моторное масло | Топливный...      25.0         50.0   \n",
       "Масляный фильтр ДВС, Моторное масло | Топливный...      25.0         50.0   \n",
       "Масляный фильтр ДВС, Моторное масло | Топливный...      25.0         50.0   \n",
       "Масляный фильтр ДВС, Моторное масло | Топливный...      25.0         50.0   \n",
       "Масляный фильтр ДВС, Моторное масло | Топливный...      25.0         50.0   \n",
       "Масляный фильтр ДВС, Моторное масло | Топливный...      25.0         50.0   \n",
       "Масляный фильтр ДВС, Моторное масло | Топливный...      25.0         50.0   \n",
       "Масляный фильтр ДВС, Моторное масло | Топливный...      25.0         50.0   \n",
       "\n",
       "                                                    Lift  \n",
       "Масляный фильтр ДВС, Моторное масло | Топливный...   2.0  \n",
       "Масляный фильтр ДВС, Моторное масло | Топливный...   2.0  \n",
       "Масляный фильтр ДВС, Моторное масло | Топливный...   2.0  \n",
       "Масляный фильтр ДВС, Моторное масло | Топливный...   2.0  \n",
       "Масляный фильтр ДВС, Моторное масло | Топливный...   2.0  \n",
       "Масляный фильтр ДВС, Моторное масло | Топливный...   2.0  \n",
       "Масляный фильтр ДВС, Моторное масло | Топливный...   2.0  \n",
       "Масляный фильтр ДВС, Моторное масло | Топливный...   2.0  \n",
       "Масляный фильтр ДВС, Моторное масло | Топливный...   2.0  \n",
       "Масляный фильтр ДВС, Моторное масло | Топливный...   2.0  \n",
       "Масляный фильтр ДВС, Моторное масло | Топливный...   2.0  \n",
       "Масляный фильтр ДВС, Моторное масло | Топливный...   2.0  \n",
       "Масляный фильтр ДВС, Моторное масло | Топливный...   2.0  \n",
       "Масляный фильтр ДВС, Моторное масло | Топливный...   2.0  \n",
       "Масляный фильтр ДВС, Моторное масло | Топливный...   2.0  \n",
       "Масляный фильтр ДВС, Моторное масло | Топливный...   2.0  \n",
       "Масляный фильтр ДВС, Моторное масло | Топливный...   2.0  \n",
       "Масляный фильтр ДВС, Моторное масло | Топливный...   2.0  \n",
       "Масляный фильтр ДВС, Моторное масло | Топливный...   2.0  \n",
       "Масляный фильтр ДВС, Моторное масло | Топливный...   2.0  "
      ]
     },
     "execution_count": 107,
     "metadata": {},
     "output_type": "execute_result"
    }
   ],
   "source": [
    "Dataframe.tail(20)"
   ]
  },
  {
   "cell_type": "code",
   "execution_count": null,
   "id": "5dcaf165",
   "metadata": {},
   "outputs": [],
   "source": []
  }
 ],
 "metadata": {
  "kernelspec": {
   "display_name": "Python 3 (ipykernel)",
   "language": "python",
   "name": "python3"
  },
  "language_info": {
   "codemirror_mode": {
    "name": "ipython",
    "version": 3
   },
   "file_extension": ".py",
   "mimetype": "text/x-python",
   "name": "python",
   "nbconvert_exporter": "python",
   "pygments_lexer": "ipython3",
   "version": "3.11.0"
  }
 },
 "nbformat": 4,
 "nbformat_minor": 5
}
