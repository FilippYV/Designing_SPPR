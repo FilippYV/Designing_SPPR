{
 "cells": [
  {
   "cell_type": "code",
   "execution_count": 38,
   "id": "80ba163d",
   "metadata": {
    "ExecuteTime": {
     "end_time": "2023-05-10T21:21:13.396150200Z",
     "start_time": "2023-05-10T21:21:13.386070100Z"
    }
   },
   "outputs": [],
   "source": [
    "import pandas as pd\n",
    "import numpy as np\n",
    "import seaborn as sn\n",
    "import itertools\n",
    "import time"
   ]
  },
  {
   "cell_type": "code",
   "execution_count": null,
   "id": "6a9aac40",
   "metadata": {},
   "outputs": [],
   "source": [
    "data = pd.read_csv('static/data//data.csv')"
   ]
  },
  {
   "cell_type": "code",
   "execution_count": 39,
   "id": "245e66c8",
   "metadata": {
    "ExecuteTime": {
     "end_time": "2023-05-10T21:21:14.793647600Z",
     "start_time": "2023-05-10T21:21:14.771757900Z"
    }
   },
   "outputs": [],
   "source": [
    "data = pd.read_csv('static/data//new_data.csv')"
   ]
  },
  {
   "cell_type": "code",
   "execution_count": 40,
   "id": "5930de5c",
   "metadata": {
    "ExecuteTime": {
     "end_time": "2023-05-10T21:21:16.372614500Z",
     "start_time": "2023-05-10T21:21:16.114542200Z"
    }
   },
   "outputs": [
    {
     "data": {
      "text/plain": "array([[<Axes: title={'center': 'receipt_number'}>]], dtype=object)"
     },
     "execution_count": 40,
     "metadata": {},
     "output_type": "execute_result"
    },
    {
     "data": {
      "text/plain": "<Figure size 640x480 with 1 Axes>",
      "image/png": "[encoded data removed]"
     },
     "metadata": {},
     "output_type": "display_data"
    }
   ],
   "source": [
    "data.hist()"
   ]
  },
  {
   "cell_type": "code",
   "execution_count": 41,
   "id": "8ba63c49",
   "metadata": {
    "ExecuteTime": {
     "end_time": "2023-05-10T21:21:17.136926300Z",
     "start_time": "2023-05-10T21:21:17.110263200Z"
    }
   },
   "outputs": [
    {
     "data": {
      "text/plain": "   receipt_number                                      product\n0              15                   Передние тормозные колодки\n1              15                               Моторное масло\n2              15                          Масляный фильтр ДВС\n3              30                                Фильтр салона\n4              30  Свечи зажигания на моделях с бензиновым ДВС\n5              30                   Передние тормозные колодки\n6              30                               Моторное масло\n7              30                         Воздушный фильтр ДВС\n8              30                          Масляный фильтр ДВС\n9              30              Топливный фильтр тонкой очистки",
      "text/html": "<div>\n<style scoped>\n    .dataframe tbody tr th:only-of-type {\n        vertical-align: middle;\n    }\n\n    .dataframe tbody tr th {\n        vertical-align: top;\n    }\n\n    .dataframe thead th {\n        text-align: right;\n    }\n</style>\n<table border=\"1\" class=\"dataframe\">\n  <thead>\n    <tr style=\"text-align: right;\">\n      <th></th>\n      <th>receipt_number</th>\n      <th>product</th>\n    </tr>\n  </thead>\n  <tbody>\n    <tr>\n      <th>0</th>\n      <td>15</td>\n      <td>Передние тормозные колодки</td>\n    </tr>\n    <tr>\n      <th>1</th>\n      <td>15</td>\n      <td>Моторное масло</td>\n    </tr>\n    <tr>\n      <th>2</th>\n      <td>15</td>\n      <td>Масляный фильтр ДВС</td>\n    </tr>\n    <tr>\n      <th>3</th>\n      <td>30</td>\n      <td>Фильтр салона</td>\n    </tr>\n    <tr>\n      <th>4</th>\n      <td>30</td>\n      <td>Свечи зажигания на моделях с бензиновым ДВС</td>\n    </tr>\n    <tr>\n      <th>5</th>\n      <td>30</td>\n      <td>Передние тормозные колодки</td>\n    </tr>\n    <tr>\n      <th>6</th>\n      <td>30</td>\n      <td>Моторное масло</td>\n    </tr>\n    <tr>\n      <th>7</th>\n      <td>30</td>\n      <td>Воздушный фильтр ДВС</td>\n    </tr>\n    <tr>\n      <th>8</th>\n      <td>30</td>\n      <td>Масляный фильтр ДВС</td>\n    </tr>\n    <tr>\n      <th>9</th>\n      <td>30</td>\n      <td>Топливный фильтр тонкой очистки</td>\n    </tr>\n  </tbody>\n</table>\n</div>"
     },
     "execution_count": 41,
     "metadata": {},
     "output_type": "execute_result"
    }
   ],
   "source": [
    "data.head(10)"
   ]
  },
  {
   "cell_type": "code",
   "execution_count": 42,
   "id": "f173a058",
   "metadata": {
    "ExecuteTime": {
     "end_time": "2023-05-10T21:21:18.404714200Z",
     "start_time": "2023-05-10T21:21:18.391367200Z"
    }
   },
   "outputs": [
    {
     "name": "stdout",
     "output_type": "stream",
     "text": [
      "10\n"
     ]
    },
    {
     "data": {
      "text/plain": "array([15, 30, 40, 45, 50, 55, 60, 75, 80, 90], dtype=int64)"
     },
     "execution_count": 42,
     "metadata": {},
     "output_type": "execute_result"
    }
   ],
   "source": [
    "unique_receipts = data.receipt_number.unique()\n",
    "print(len(unique_receipts))\n",
    "unique_receipts"
   ]
  },
  {
   "cell_type": "code",
   "execution_count": 43,
   "id": "df9d75ee",
   "metadata": {
    "ExecuteTime": {
     "end_time": "2023-05-10T21:21:19.117531600Z",
     "start_time": "2023-05-10T21:21:19.114539100Z"
    }
   },
   "outputs": [],
   "source": [
    "count_receipt = len(unique_receipts)"
   ]
  },
  {
   "cell_type": "code",
   "execution_count": 44,
   "id": "ba63fb11",
   "metadata": {
    "ExecuteTime": {
     "end_time": "2023-05-10T21:21:20.199859Z",
     "start_time": "2023-05-10T21:21:20.187946800Z"
    }
   },
   "outputs": [
    {
     "name": "stdout",
     "output_type": "stream",
     "text": [
      "16\n"
     ]
    },
    {
     "data": {
      "text/plain": "array(['Передние тормозные колодки', 'Моторное масло',\n       'Масляный фильтр ДВС', 'Фильтр салона',\n       'Свечи зажигания на моделях с бензиновым ДВС',\n       'Воздушный фильтр ДВС', 'Топливный фильтр тонкой очистки',\n       'Масло в коробке передач', 'Жидкость ГУР',\n       'Масляный фильтр коробки передач', 'Тормозная жидкость',\n       'Задние тормозные колодки', 'Приводной ремень',\n       'Основной аккумулятор', 'Рычаги подвески',\n       'Шрусы или их составные части'], dtype=object)"
     },
     "execution_count": 44,
     "metadata": {},
     "output_type": "execute_result"
    }
   ],
   "source": [
    "unique_products = data['product'].unique()\n",
    "print(len(unique_products))\n",
    "unique_products"
   ]
  },
  {
   "cell_type": "code",
   "execution_count": 45,
   "id": "f878431c",
   "metadata": {
    "ExecuteTime": {
     "end_time": "2023-05-10T21:21:21.023809300Z",
     "start_time": "2023-05-10T21:21:21.020829100Z"
    }
   },
   "outputs": [
    {
     "data": {
      "text/plain": "array([[15, 'Передние тормозные колодки'],\n       [15, 'Моторное масло'],\n       [15, 'Масляный фильтр ДВС'],\n       [30, 'Фильтр салона'],\n       [30, 'Свечи зажигания на моделях с бензиновым ДВС']], dtype=object)"
     },
     "execution_count": 45,
     "metadata": {},
     "output_type": "execute_result"
    }
   ],
   "source": [
    "data_np = data.to_numpy()\n",
    "data_np[:5]"
   ]
  },
  {
   "cell_type": "code",
   "execution_count": 46,
   "id": "d5a0bfbc",
   "metadata": {
    "ExecuteTime": {
     "end_time": "2023-05-10T21:21:27.829269Z",
     "start_time": "2023-05-10T21:21:27.812392200Z"
    }
   },
   "outputs": [
    {
     "data": {
      "text/plain": "[['Передние тормозные колодки', 'Моторное масло', 'Масляный фильтр ДВС'],\n ['Фильтр салона',\n  'Свечи зажигания на моделях с бензиновым ДВС',\n  'Передние тормозные колодки',\n  'Моторное масло',\n  'Воздушный фильтр ДВС',\n  'Масляный фильтр ДВС',\n  'Топливный фильтр тонкой очистки'],\n ['Передние тормозные колодки', 'Фильтр салона'],\n ['Моторное масло', 'Масляный фильтр ДВС'],\n ['Передние тормозные колодки',\n  'Масло в коробке передач',\n  'Жидкость ГУР',\n  'Масляный фильтр коробки передач'],\n ['Тормозная жидкость', 'Передние тормозные колодки'],\n ['Свечи зажигания на моделях с бензиновым ДВС',\n  'Задние тормозные колодки',\n  'Моторное масло',\n  'Воздушный фильтр ДВС',\n  'Масляный фильтр ДВС',\n  'Топливный фильтр тонкой очистки',\n  'Фильтр салона'],\n ['Приводной ремень',\n  'Передние тормозные колодки',\n  'Основной аккумулятор',\n  'Моторное масло',\n  'Масляный фильтр ДВС'],\n ['Рычаги подвески', 'Передние тормозные колодки', 'Фильтр салона'],\n ['Свечи зажигания на моделях с бензиновым ДВС',\n  'Шрусы или их составные части',\n  'Моторное масло',\n  'Воздушный фильтр ДВС',\n  'Масляный фильтр ДВС',\n  'Топливный фильтр тонкой очистки']]"
     },
     "execution_count": 46,
     "metadata": {},
     "output_type": "execute_result"
    }
   ],
   "source": [
    "group_products_receipts = []\n",
    "for i in unique_receipts:\n",
    "    micro_data = []\n",
    "    for j in data_np:\n",
    "        if j[0] == i:\n",
    "            micro_data.append(j[1])\n",
    "    group_products_receipts.append(micro_data)\n",
    "group_products_receipts"
   ]
  },
  {
   "cell_type": "code",
   "execution_count": 47,
   "id": "16677d49",
   "metadata": {
    "scrolled": true,
    "ExecuteTime": {
     "end_time": "2023-05-10T21:21:31.029523300Z",
     "start_time": "2023-05-10T21:21:31.017554600Z"
    }
   },
   "outputs": [
    {
     "data": {
      "text/plain": "   receipt                                            product\n0       15  [Передние тормозные колодки, Моторное масло, М...\n1       30  [Фильтр салона, Свечи зажигания на моделях с б...\n2       40        [Передние тормозные колодки, Фильтр салона]\n3       45              [Моторное масло, Масляный фильтр ДВС]\n4       50  [Передние тормозные колодки, Масло в коробке п...\n5       55   [Тормозная жидкость, Передние тормозные колодки]\n6       60  [Свечи зажигания на моделях с бензиновым ДВС, ...\n7       75  [Приводной ремень, Передние тормозные колодки,...\n8       80  [Рычаги подвески, Передние тормозные колодки, ...\n9       90  [Свечи зажигания на моделях с бензиновым ДВС, ...",
      "text/html": "<div>\n<style scoped>\n    .dataframe tbody tr th:only-of-type {\n        vertical-align: middle;\n    }\n\n    .dataframe tbody tr th {\n        vertical-align: top;\n    }\n\n    .dataframe thead th {\n        text-align: right;\n    }\n</style>\n<table border=\"1\" class=\"dataframe\">\n  <thead>\n    <tr style=\"text-align: right;\">\n      <th></th>\n      <th>receipt</th>\n      <th>product</th>\n    </tr>\n  </thead>\n  <tbody>\n    <tr>\n      <th>0</th>\n      <td>15</td>\n      <td>[Передние тормозные колодки, Моторное масло, М...</td>\n    </tr>\n    <tr>\n      <th>1</th>\n      <td>30</td>\n      <td>[Фильтр салона, Свечи зажигания на моделях с б...</td>\n    </tr>\n    <tr>\n      <th>2</th>\n      <td>40</td>\n      <td>[Передние тормозные колодки, Фильтр салона]</td>\n    </tr>\n    <tr>\n      <th>3</th>\n      <td>45</td>\n      <td>[Моторное масло, Масляный фильтр ДВС]</td>\n    </tr>\n    <tr>\n      <th>4</th>\n      <td>50</td>\n      <td>[Передние тормозные колодки, Масло в коробке п...</td>\n    </tr>\n    <tr>\n      <th>5</th>\n      <td>55</td>\n      <td>[Тормозная жидкость, Передние тормозные колодки]</td>\n    </tr>\n    <tr>\n      <th>6</th>\n      <td>60</td>\n      <td>[Свечи зажигания на моделях с бензиновым ДВС, ...</td>\n    </tr>\n    <tr>\n      <th>7</th>\n      <td>75</td>\n      <td>[Приводной ремень, Передние тормозные колодки,...</td>\n    </tr>\n    <tr>\n      <th>8</th>\n      <td>80</td>\n      <td>[Рычаги подвески, Передние тормозные колодки, ...</td>\n    </tr>\n    <tr>\n      <th>9</th>\n      <td>90</td>\n      <td>[Свечи зажигания на моделях с бензиновым ДВС, ...</td>\n    </tr>\n  </tbody>\n</table>\n</div>"
     },
     "execution_count": 47,
     "metadata": {},
     "output_type": "execute_result"
    }
   ],
   "source": [
    "dataframe = pd.DataFrame({'receipt' : unique_receipts,\n",
    "                  \n",
    "                          'product' : group_products_receipts}, \n",
    "                                columns=['receipt','product'])\n",
    "dataframe"
   ]
  },
  {
   "cell_type": "code",
   "execution_count": null,
   "id": "0563a5a7",
   "metadata": {},
   "outputs": [],
   "source": [
    "mass_group_products = []\n",
    "for i in range(len(unique_products)-1):\n",
    "    for j in range(i + 1, len(unique_products)):\n",
    "        \n",
    "        mass_group_products.append([[unique_products[i]],[unique_products[j]]])\n",
    "        mass_for_two = [unique_products[i], unique_products[j]]\n",
    "        for two in unique_products:\n",
    "            if two not in mass_for_two:\n",
    "                mass_group_products.append([mass_for_two, [two]])\n",
    "            \n",
    "        mass_for_three = [mass_for_two[0], mass_for_two[1], two]\n",
    "        for three in unique_products:\n",
    "            if three not in mass_for_three:\n",
    "                mass_group_products.append([mass_for_three, [three]])\n",
    "        \n",
    "        mass_for_four = [mass_for_three[0], mass_for_three[1],  mass_for_three[2],  three]\n",
    "        for four in unique_products:\n",
    "             if four not in mass_for_four:\n",
    "                mass_group_products.append([mass_for_four, [four]])"
   ]
  },
  {
   "cell_type": "code",
   "execution_count": 48,
   "id": "200258fa",
   "metadata": {
    "scrolled": false,
    "ExecuteTime": {
     "end_time": "2023-05-10T21:21:48.051239200Z",
     "start_time": "2023-05-10T21:21:34.477189400Z"
    }
   },
   "outputs": [
    {
     "name": "stdout",
     "output_type": "stream",
     "text": [
      "-------------------------\n",
      "Элемент 1 / 10\n",
      "Количество элементов = 3\n",
      "Максимум элементов = 3\n",
      "Время = 0.0 seconds\n",
      "Получено сочетаний 12\n",
      "Всего элементов = 12\n",
      "-------------------------\n",
      "Элемент 2 / 10\n",
      "Количество элементов = 7\n",
      "Максимум элементов = 4\n",
      "Время = 3.0659360885620117 seconds\n",
      "Получено сочетаний 13682\n",
      "Всего элементов = 13692\n",
      "-------------------------\n",
      "Элемент 3 / 10\n",
      "Количество элементов = 2\n",
      "Максимум элементов = 2\n",
      "Время = 0.0 seconds\n",
      "Получено сочетаний 13682\n",
      "Всего элементов = 13692\n",
      "-------------------------\n",
      "Элемент 4 / 10\n",
      "Количество элементов = 2\n",
      "Максимум элементов = 2\n",
      "Время = 0.0 seconds\n",
      "Получено сочетаний 13682\n",
      "Всего элементов = 13692\n",
      "-------------------------\n",
      "Элемент 5 / 10\n",
      "Количество элементов = 4\n",
      "Максимум элементов = 4\n",
      "Время = 0.02340531349182129 seconds\n",
      "Получено сочетаний 13742\n",
      "Всего элементов = 13752\n",
      "-------------------------\n",
      "Элемент 6 / 10\n",
      "Количество элементов = 2\n",
      "Максимум элементов = 2\n",
      "Время = 0.0009963512420654297 seconds\n",
      "Получено сочетаний 13744\n",
      "Всего элементов = 13754\n",
      "-------------------------\n",
      "Элемент 7 / 10\n",
      "Количество элементов = 7\n",
      "Максимум элементов = 4\n",
      "Время = 8.715385675430298 seconds\n",
      "Получено сочетаний 25486\n",
      "Всего элементов = 25496\n",
      "-------------------------\n",
      "Элемент 8 / 10\n",
      "Количество элементов = 5\n",
      "Максимум элементов = 4\n",
      "Время = 0.1900770664215088 seconds\n",
      "Получено сочетаний 25794\n",
      "Всего элементов = 25804\n",
      "-------------------------\n",
      "Элемент 9 / 10\n",
      "Количество элементов = 3\n",
      "Максимум элементов = 3\n",
      "Время = 0.001997709274291992 seconds\n",
      "Получено сочетаний 25804\n",
      "Всего элементов = 25814\n",
      "-------------------------\n",
      "Элемент 10 / 10\n",
      "Количество элементов = 6\n",
      "Максимум элементов = 4\n",
      "Время = 1.5694084167480469 seconds\n",
      "Получено сочетаний 27434\n",
      "Всего элементов = 27444\n",
      "\n",
      "\n",
      "27444\n"
     ]
    }
   ],
   "source": [
    "mass_group_products = []\n",
    "mass_group_products_str = []\n",
    "count = 1\n",
    "last_len = 0\n",
    "for mass in group_products_receipts:\n",
    "    start_time = time.time()\n",
    "    print('-' * 25)\n",
    "    print(f'Элемент {count} / {len(group_products_receipts)}')\n",
    "    print('Количество элементов =', len(mass))\n",
    "    if len(mass) > 4:\n",
    "        n = 4\n",
    "    else:\n",
    "        n = len(mass)\n",
    "    print(f'Максимум элементов = {n}')\n",
    "    groups = []\n",
    "    for count_item in range(1, n + 1):\n",
    "        permutation = itertools.permutations(mass, count_item)\n",
    "        comb_not_sort = []\n",
    "        for comb in permutation:\n",
    "            groups.append(list(comb))\n",
    "    for i in range(len(groups)):\n",
    "        for j in range(len(groups)):\n",
    "            if i != j and set(groups[j]).isdisjoint(groups[i]) and set(groups[i]).isdisjoint(groups[j]):\n",
    "                if sum([groups[i], groups[j]], []) not in mass_group_products_str:\n",
    "                    mass_group_products_str.append(sum([groups[i], groups[j]], []))\n",
    "                    mass_group_products.append([groups[i], groups[j]])\n",
    "    print(\"Время = %s seconds\" % (time.time() - start_time))\n",
    "    print(f\"Получено сочетаний {len(mass_group_products) - last_len}\")\n",
    "    print(f\"Всего элементов = {len(mass_group_products)}\")\n",
    "    count += 1\n",
    "    last_len = len(group_products_receipts)\n",
    "print('\\n' * 1)\n",
    "print(len(mass_group_products))"
   ]
  },
  {
   "cell_type": "code",
   "execution_count": 49,
   "id": "1f48880d",
   "metadata": {
    "ExecuteTime": {
     "end_time": "2023-05-10T21:21:48.057652100Z",
     "start_time": "2023-05-10T21:21:48.052237800Z"
    }
   },
   "outputs": [
    {
     "data": {
      "text/plain": "[[['Передние тормозные колодки'], ['Моторное масло']],\n [['Передние тормозные колодки'], ['Масляный фильтр ДВС']],\n [['Передние тормозные колодки'], ['Моторное масло', 'Масляный фильтр ДВС']],\n [['Передние тормозные колодки'], ['Масляный фильтр ДВС', 'Моторное масло']],\n [['Моторное масло'], ['Передние тормозные колодки']],\n [['Моторное масло'], ['Масляный фильтр ДВС']]]"
     },
     "execution_count": 49,
     "metadata": {},
     "output_type": "execute_result"
    }
   ],
   "source": [
    "len(mass_group_products)\n",
    "mass_group_products[:6]"
   ]
  },
  {
   "cell_type": "code",
   "execution_count": 50,
   "id": "e3e8b3f0",
   "metadata": {
    "ExecuteTime": {
     "end_time": "2023-05-10T21:21:48.064837200Z",
     "start_time": "2023-05-10T21:21:48.058649100Z"
    }
   },
   "outputs": [
    {
     "data": {
      "text/plain": "[['Передние тормозные колодки'], ['Масляный фильтр ДВС', 'Моторное масло']]"
     },
     "execution_count": 50,
     "metadata": {},
     "output_type": "execute_result"
    }
   ],
   "source": [
    "mass_group_products[3]"
   ]
  },
  {
   "cell_type": "code",
   "execution_count": 51,
   "id": "f08f861f",
   "metadata": {
    "ExecuteTime": {
     "end_time": "2023-05-10T21:21:48.248939800Z",
     "start_time": "2023-05-10T21:21:48.066783500Z"
    }
   },
   "outputs": [
    {
     "name": "stdout",
     "output_type": "stream",
     "text": [
      "300/10 = 30.0\n"
     ]
    }
   ],
   "source": [
    "for i in range(len(mass_group_products)):\n",
    "    count = 0\n",
    "    for j in group_products_receipts:\n",
    "        if set(mass_group_products[i][0]).issubset(j) and set(mass_group_products[i][1]).issubset(j):\n",
    "            count += 1\n",
    "    if i == 0:\n",
    "        print(f'{count*100}/{count_receipt} = {round((count*100/count_receipt),2)}')\n",
    "    mass_group_products[i].append((round((count*100/count_receipt),2)))"
   ]
  },
  {
   "cell_type": "code",
   "execution_count": 52,
   "id": "0b186cd9",
   "metadata": {
    "ExecuteTime": {
     "end_time": "2023-05-10T21:21:48.255920500Z",
     "start_time": "2023-05-10T21:21:48.250934300Z"
    }
   },
   "outputs": [
    {
     "data": {
      "text/plain": "[[['Передние тормозные колодки'], ['Моторное масло'], 30.0],\n [['Передние тормозные колодки'], ['Масляный фильтр ДВС'], 30.0],\n [['Передние тормозные колодки'],\n  ['Моторное масло', 'Масляный фильтр ДВС'],\n  30.0]]"
     },
     "execution_count": 52,
     "metadata": {},
     "output_type": "execute_result"
    }
   ],
   "source": [
    "mass_group_products[:3]"
   ]
  },
  {
   "cell_type": "code",
   "execution_count": 53,
   "id": "4eb14427",
   "metadata": {
    "ExecuteTime": {
     "end_time": "2023-05-10T21:21:48.550556200Z",
     "start_time": "2023-05-10T21:21:48.255920500Z"
    }
   },
   "outputs": [],
   "source": [
    "for i in range(len(mass_group_products)):\n",
    "    count_one = 0\n",
    "    count_two = 0\n",
    "    for j in group_products_receipts:\n",
    "        if set(mass_group_products[i][0]).issubset(j) and set(mass_group_products[i][1]).issubset(j):\n",
    "            count_one += 1\n",
    "    for j in group_products_receipts:\n",
    "        if set(mass_group_products[i][0]).issubset(j):\n",
    "            count_two += 1\n",
    "    if count_two != 0:\n",
    "        mass_group_products[i].append((round((count_one*100/count_two),2)))\n",
    "    else:\n",
    "        mass_group_products[i].append(0)"
   ]
  },
  {
   "cell_type": "code",
   "execution_count": 54,
   "id": "536df694",
   "metadata": {
    "ExecuteTime": {
     "end_time": "2023-05-10T21:21:48.555919Z",
     "start_time": "2023-05-10T21:21:48.551553800Z"
    }
   },
   "outputs": [
    {
     "data": {
      "text/plain": "[[['Передние тормозные колодки'], ['Моторное масло'], 30.0, 42.86],\n [['Передние тормозные колодки'], ['Масляный фильтр ДВС'], 30.0, 42.86],\n [['Передние тормозные колодки'],\n  ['Моторное масло', 'Масляный фильтр ДВС'],\n  30.0,\n  42.86]]"
     },
     "execution_count": 54,
     "metadata": {},
     "output_type": "execute_result"
    }
   ],
   "source": [
    "mass_group_products[:3]"
   ]
  },
  {
   "cell_type": "code",
   "execution_count": 55,
   "id": "ba924d56",
   "metadata": {
    "ExecuteTime": {
     "end_time": "2023-05-10T21:21:48.722812500Z",
     "start_time": "2023-05-10T21:21:48.558910700Z"
    }
   },
   "outputs": [],
   "source": [
    "for i in range(len(mass_group_products)):\n",
    "    count_one = 0\n",
    "    for j in group_products_receipts:\n",
    "        if set(mass_group_products[i][1]).issubset(j):\n",
    "            count_one += 1\n",
    "    if (count_one*100/count_receipt) != 0:\n",
    "        mass_group_products[i].append((round(mass_group_products[i][-1]/(count_one*100/count_receipt),2)))\n",
    "    else:\n",
    "        mass_group_products[i].append(0)"
   ]
  },
  {
   "cell_type": "code",
   "execution_count": 56,
   "id": "1df9881b",
   "metadata": {
    "ExecuteTime": {
     "end_time": "2023-05-10T21:21:48.730645800Z",
     "start_time": "2023-05-10T21:21:48.724806600Z"
    }
   },
   "outputs": [
    {
     "data": {
      "text/plain": "[[['Передние тормозные колодки'], ['Моторное масло'], 30.0, 42.86, 0.71],\n [['Передние тормозные колодки'], ['Масляный фильтр ДВС'], 30.0, 42.86, 0.71],\n [['Передние тормозные колодки'],\n  ['Моторное масло', 'Масляный фильтр ДВС'],\n  30.0,\n  42.86,\n  0.71]]"
     },
     "execution_count": 56,
     "metadata": {},
     "output_type": "execute_result"
    }
   ],
   "source": [
    "mass_group_products[:3]"
   ]
  },
  {
   "cell_type": "code",
   "execution_count": 57,
   "id": "6db843bd",
   "metadata": {
    "ExecuteTime": {
     "end_time": "2023-05-10T21:21:48.824204800Z",
     "start_time": "2023-05-10T21:21:48.734636Z"
    }
   },
   "outputs": [],
   "source": [
    "name_for_index = []\n",
    "for i in range(len(mass_group_products)):\n",
    "    name_A = ''\n",
    "    name_B = ''\n",
    "    for k in range(len(mass_group_products[i][0])):\n",
    "        len_name = len(mass_group_products[i][0])\n",
    "        if k != len_name - 1 and len_name != 1:\n",
    "            name_A += f'{mass_group_products[i][0][k]}, '\n",
    "        else:\n",
    "            name_A += f'{mass_group_products[i][0][k]}'\n",
    "    for k in range(len(mass_group_products[i][1])):\n",
    "        len_name = len(mass_group_products[i][1])\n",
    "        if k != len_name - 1 and len_name != 1:\n",
    "            name_B += f'{mass_group_products[i][1][k]}, '\n",
    "        else:\n",
    "            name_B += f'{mass_group_products[i][1][k]}'\n",
    "    string = f'{name_A} | {name_B}'\n",
    "    name_for_index.append(string)"
   ]
  },
  {
   "cell_type": "code",
   "execution_count": 58,
   "id": "9d0c4134",
   "metadata": {
    "ExecuteTime": {
     "end_time": "2023-05-10T21:21:48.832005500Z",
     "start_time": "2023-05-10T21:21:48.827196500Z"
    }
   },
   "outputs": [
    {
     "data": {
      "text/plain": "['Передние тормозные колодки | Моторное масло',\n 'Передние тормозные колодки | Масляный фильтр ДВС',\n 'Передние тормозные колодки | Моторное масло, Масляный фильтр ДВС',\n 'Передние тормозные колодки | Масляный фильтр ДВС, Моторное масло',\n 'Моторное масло | Передние тормозные колодки']"
     },
     "execution_count": 58,
     "metadata": {},
     "output_type": "execute_result"
    }
   ],
   "source": [
    "name_for_index[:5]"
   ]
  },
  {
   "cell_type": "code",
   "execution_count": 59,
   "id": "e3587c04",
   "metadata": {
    "ExecuteTime": {
     "end_time": "2023-05-10T21:21:48.932730700Z",
     "start_time": "2023-05-10T21:21:48.832005500Z"
    }
   },
   "outputs": [
    {
     "data": {
      "text/plain": "[[30.0, 42.86, 0.71],\n [30.0, 42.86, 0.71],\n [30.0, 42.86, 0.71],\n [30.0, 42.86, 0.71],\n [30.0, 50.0, 0.71]]"
     },
     "execution_count": 59,
     "metadata": {},
     "output_type": "execute_result"
    }
   ],
   "source": [
    "dataframe = []\n",
    "for i in range(len(mass_group_products)):\n",
    "    mass = []\n",
    "    for j in range(len(mass_group_products[i])):\n",
    "        if j != 0 and j != 1:\n",
    "            mass.append(mass_group_products[i][j])\n",
    "    dataframe.append(mass)\n",
    "dataframe[:5]"
   ]
  },
  {
   "cell_type": "code",
   "execution_count": 60,
   "id": "7e22f27a",
   "metadata": {
    "ExecuteTime": {
     "end_time": "2023-05-10T21:21:48.934720300Z",
     "start_time": "2023-05-10T21:21:48.895037800Z"
    }
   },
   "outputs": [
    {
     "data": {
      "text/plain": "411"
     },
     "execution_count": 60,
     "metadata": {},
     "output_type": "execute_result"
    }
   ],
   "source": [
    "Dataframe = pd.DataFrame(dataframe, columns =['Suported', 'Reliability', 'Lift'], index=name_for_index)\n",
    "Dataframe = (Dataframe.loc[Dataframe.Suported < 89]) \n",
    "Dataframe = (Dataframe.loc[20 < Dataframe.Suported]) \n",
    "Dataframe = (Dataframe.loc[30 < Dataframe.Reliability]) \n",
    "Dataframe = (Dataframe.loc[Dataframe.Reliability < 70])\n",
    "Dataframe.size"
   ]
  },
  {
   "cell_type": "code",
   "execution_count": 61,
   "id": "36edaf90",
   "metadata": {
    "scrolled": false,
    "ExecuteTime": {
     "end_time": "2023-05-10T21:21:48.935717700Z",
     "start_time": "2023-05-10T21:21:48.922734800Z"
    }
   },
   "outputs": [
    {
     "data": {
      "text/plain": "                                                    Suported  Reliability  \\\nМоторное масло | Топливный фильтр тонкой очистк...      30.0        50.00   \nМасляный фильтр ДВС | Свечи зажигания на моделя...      30.0        50.00   \nМасляный фильтр ДВС | Топливный фильтр тонкой о...      30.0        50.00   \nМасляный фильтр ДВС | Свечи зажигания на моделя...      30.0        50.00   \nМасляный фильтр ДВС | Свечи зажигания на моделя...      30.0        50.00   \n...                                                      ...          ...   \nПередние тормозные колодки | Масляный фильтр ДВ...      30.0        42.86   \nПередние тормозные колодки | Масляный фильтр ДВС        30.0        42.86   \nМоторное масло | Передние тормозные колодки             30.0        50.00   \nМасляный фильтр ДВС | Передние тормозные колодки        30.0        50.00   \nПередние тормозные колодки | Моторное масло             30.0        42.86   \n\n                                                    Lift  \nМоторное масло | Топливный фильтр тонкой очистк...  1.67  \nМасляный фильтр ДВС | Свечи зажигания на моделя...  1.67  \nМасляный фильтр ДВС | Топливный фильтр тонкой о...  1.67  \nМасляный фильтр ДВС | Свечи зажигания на моделя...  1.67  \nМасляный фильтр ДВС | Свечи зажигания на моделя...  1.67  \n...                                                  ...  \nПередние тормозные колодки | Масляный фильтр ДВ...  0.71  \nПередние тормозные колодки | Масляный фильтр ДВС    0.71  \nМоторное масло | Передние тормозные колодки         0.71  \nМасляный фильтр ДВС | Передние тормозные колодки    0.71  \nПередние тормозные колодки | Моторное масло         0.71  \n\n[137 rows x 3 columns]",
      "text/html": "<div>\n<style scoped>\n    .dataframe tbody tr th:only-of-type {\n        vertical-align: middle;\n    }\n\n    .dataframe tbody tr th {\n        vertical-align: top;\n    }\n\n    .dataframe thead th {\n        text-align: right;\n    }\n</style>\n<table border=\"1\" class=\"dataframe\">\n  <thead>\n    <tr style=\"text-align: right;\">\n      <th></th>\n      <th>Suported</th>\n      <th>Reliability</th>\n      <th>Lift</th>\n    </tr>\n  </thead>\n  <tbody>\n    <tr>\n      <th>Моторное масло | Топливный фильтр тонкой очистки, Свечи зажигания на моделях с бензиновым ДВС, Воздушный фильтр ДВС, Масляный фильтр ДВС</th>\n      <td>30.0</td>\n      <td>50.00</td>\n      <td>1.67</td>\n    </tr>\n    <tr>\n      <th>Масляный фильтр ДВС | Свечи зажигания на моделях с бензиновым ДВС, Топливный фильтр тонкой очистки, Воздушный фильтр ДВС</th>\n      <td>30.0</td>\n      <td>50.00</td>\n      <td>1.67</td>\n    </tr>\n    <tr>\n      <th>Масляный фильтр ДВС | Топливный фильтр тонкой очистки, Воздушный фильтр ДВС</th>\n      <td>30.0</td>\n      <td>50.00</td>\n      <td>1.67</td>\n    </tr>\n    <tr>\n      <th>Масляный фильтр ДВС | Свечи зажигания на моделях с бензиновым ДВС, Моторное масло, Воздушный фильтр ДВС</th>\n      <td>30.0</td>\n      <td>50.00</td>\n      <td>1.67</td>\n    </tr>\n    <tr>\n      <th>Масляный фильтр ДВС | Свечи зажигания на моделях с бензиновым ДВС, Моторное масло, Топливный фильтр тонкой очистки</th>\n      <td>30.0</td>\n      <td>50.00</td>\n      <td>1.67</td>\n    </tr>\n    <tr>\n      <th>...</th>\n      <td>...</td>\n      <td>...</td>\n      <td>...</td>\n    </tr>\n    <tr>\n      <th>Передние тормозные колодки | Масляный фильтр ДВС, Моторное масло</th>\n      <td>30.0</td>\n      <td>42.86</td>\n      <td>0.71</td>\n    </tr>\n    <tr>\n      <th>Передние тормозные колодки | Масляный фильтр ДВС</th>\n      <td>30.0</td>\n      <td>42.86</td>\n      <td>0.71</td>\n    </tr>\n    <tr>\n      <th>Моторное масло | Передние тормозные колодки</th>\n      <td>30.0</td>\n      <td>50.00</td>\n      <td>0.71</td>\n    </tr>\n    <tr>\n      <th>Масляный фильтр ДВС | Передние тормозные колодки</th>\n      <td>30.0</td>\n      <td>50.00</td>\n      <td>0.71</td>\n    </tr>\n    <tr>\n      <th>Передние тормозные колодки | Моторное масло</th>\n      <td>30.0</td>\n      <td>42.86</td>\n      <td>0.71</td>\n    </tr>\n  </tbody>\n</table>\n<p>137 rows × 3 columns</p>\n</div>"
     },
     "execution_count": 61,
     "metadata": {},
     "output_type": "execute_result"
    }
   ],
   "source": [
    "Dataframe.sort_values('Lift', ascending=False)"
   ]
  },
  {
   "cell_type": "code",
   "execution_count": 62,
   "id": "6da4f278",
   "metadata": {
    "scrolled": true,
    "ExecuteTime": {
     "end_time": "2023-05-10T21:21:49.013702700Z",
     "start_time": "2023-05-10T21:21:48.936714600Z"
    }
   },
   "outputs": [
    {
     "data": {
      "text/plain": "                                                    Suported  Reliability  \\\nМоторное масло | Топливный фильтр тонкой очистк...      30.0         50.0   \nМасляный фильтр ДВС | Свечи зажигания на моделя...      30.0         50.0   \nМасляный фильтр ДВС | Топливный фильтр тонкой о...      30.0         50.0   \nМасляный фильтр ДВС | Свечи зажигания на моделя...      30.0         50.0   \nМасляный фильтр ДВС | Свечи зажигания на моделя...      30.0         50.0   \nМасляный фильтр ДВС | Свечи зажигания на моделя...      30.0         50.0   \nМасляный фильтр ДВС | Свечи зажигания на моделя...      30.0         50.0   \nМасляный фильтр ДВС | Свечи зажигания на моделя...      30.0         50.0   \nМасляный фильтр ДВС | Моторное масло, Свечи заж...      30.0         50.0   \nМоторное масло | Топливный фильтр тонкой очистк...      30.0         50.0   \nМасляный фильтр ДВС | Моторное масло, Свечи заж...      30.0         50.0   \nМасляный фильтр ДВС | Моторное масло, Воздушный...      30.0         50.0   \nМасляный фильтр ДВС | Моторное масло, Воздушный...      30.0         50.0   \nМасляный фильтр ДВС | Моторное масло, Топливный...      30.0         50.0   \nМасляный фильтр ДВС | Моторное масло, Топливный...      30.0         50.0   \nМасляный фильтр ДВС | Воздушный фильтр ДВС, Све...      30.0         50.0   \nМасляный фильтр ДВС | Топливный фильтр тонкой о...      30.0         50.0   \nМасляный фильтр ДВС | Топливный фильтр тонкой о...      30.0         50.0   \nМасляный фильтр ДВС | Воздушный фильтр ДВС, Топ...      30.0         50.0   \nМасляный фильтр ДВС | Воздушный фильтр ДВС, Мот...      30.0         50.0   \nМасляный фильтр ДВС | Воздушный фильтр ДВС, Све...      30.0         50.0   \nМасляный фильтр ДВС | Моторное масло, Топливный...      30.0         50.0   \nМасляный фильтр ДВС | Моторное масло, Воздушный...      30.0         50.0   \nМасляный фильтр ДВС | Моторное масло, Свечи заж...      30.0         50.0   \nМасляный фильтр ДВС | Свечи зажигания на моделя...      30.0         50.0   \nМасляный фильтр ДВС | Свечи зажигания на моделя...      30.0         50.0   \nМасляный фильтр ДВС | Свечи зажигания на моделя...      30.0         50.0   \nМасляный фильтр ДВС | Топливный фильтр тонкой о...      30.0         50.0   \nМасляный фильтр ДВС | Воздушный фильтр ДВС              30.0         50.0   \nМасляный фильтр ДВС | Свечи зажигания на моделя...      30.0         50.0   \nМоторное масло | Топливный фильтр тонкой очистк...      30.0         50.0   \nМоторное масло | Топливный фильтр тонкой очистк...      30.0         50.0   \nМоторное масло | Топливный фильтр тонкой очистк...      30.0         50.0   \nМасляный фильтр ДВС | Воздушный фильтр ДВС, Све...      30.0         50.0   \nМасляный фильтр ДВС | Воздушный фильтр ДВС, Мот...      30.0         50.0   \nМасляный фильтр ДВС | Воздушный фильтр ДВС, Мот...      30.0         50.0   \nМасляный фильтр ДВС | Моторное масло, Воздушный...      30.0         50.0   \nМасляный фильтр ДВС | Топливный фильтр тонкой о...      30.0         50.0   \nМасляный фильтр ДВС | Топливный фильтр тонкой о...      30.0         50.0   \nМасляный фильтр ДВС | Топливный фильтр тонкой о...      30.0         50.0   \n\n                                                    Lift  \nМоторное масло | Топливный фильтр тонкой очистк...  1.67  \nМасляный фильтр ДВС | Свечи зажигания на моделя...  1.67  \nМасляный фильтр ДВС | Топливный фильтр тонкой о...  1.67  \nМасляный фильтр ДВС | Свечи зажигания на моделя...  1.67  \nМасляный фильтр ДВС | Свечи зажигания на моделя...  1.67  \nМасляный фильтр ДВС | Свечи зажигания на моделя...  1.67  \nМасляный фильтр ДВС | Свечи зажигания на моделя...  1.67  \nМасляный фильтр ДВС | Свечи зажигания на моделя...  1.67  \nМасляный фильтр ДВС | Моторное масло, Свечи заж...  1.67  \nМоторное масло | Топливный фильтр тонкой очистк...  1.67  \nМасляный фильтр ДВС | Моторное масло, Свечи заж...  1.67  \nМасляный фильтр ДВС | Моторное масло, Воздушный...  1.67  \nМасляный фильтр ДВС | Моторное масло, Воздушный...  1.67  \nМасляный фильтр ДВС | Моторное масло, Топливный...  1.67  \nМасляный фильтр ДВС | Моторное масло, Топливный...  1.67  \nМасляный фильтр ДВС | Воздушный фильтр ДВС, Све...  1.67  \nМасляный фильтр ДВС | Топливный фильтр тонкой о...  1.67  \nМасляный фильтр ДВС | Топливный фильтр тонкой о...  1.67  \nМасляный фильтр ДВС | Воздушный фильтр ДВС, Топ...  1.67  \nМасляный фильтр ДВС | Воздушный фильтр ДВС, Мот...  1.67  \nМасляный фильтр ДВС | Воздушный фильтр ДВС, Све...  1.67  \nМасляный фильтр ДВС | Моторное масло, Топливный...  1.67  \nМасляный фильтр ДВС | Моторное масло, Воздушный...  1.67  \nМасляный фильтр ДВС | Моторное масло, Свечи заж...  1.67  \nМасляный фильтр ДВС | Свечи зажигания на моделя...  1.67  \nМасляный фильтр ДВС | Свечи зажигания на моделя...  1.67  \nМасляный фильтр ДВС | Свечи зажигания на моделя...  1.67  \nМасляный фильтр ДВС | Топливный фильтр тонкой о...  1.67  \nМасляный фильтр ДВС | Воздушный фильтр ДВС          1.67  \nМасляный фильтр ДВС | Свечи зажигания на моделя...  1.67  \nМоторное масло | Топливный фильтр тонкой очистк...  1.67  \nМоторное масло | Топливный фильтр тонкой очистк...  1.67  \nМоторное масло | Топливный фильтр тонкой очистк...  1.67  \nМасляный фильтр ДВС | Воздушный фильтр ДВС, Све...  1.67  \nМасляный фильтр ДВС | Воздушный фильтр ДВС, Мот...  1.67  \nМасляный фильтр ДВС | Воздушный фильтр ДВС, Мот...  1.67  \nМасляный фильтр ДВС | Моторное масло, Воздушный...  1.67  \nМасляный фильтр ДВС | Топливный фильтр тонкой о...  1.67  \nМасляный фильтр ДВС | Топливный фильтр тонкой о...  1.67  \nМасляный фильтр ДВС | Топливный фильтр тонкой о...  1.67  ",
      "text/html": "<div>\n<style scoped>\n    .dataframe tbody tr th:only-of-type {\n        vertical-align: middle;\n    }\n\n    .dataframe tbody tr th {\n        vertical-align: top;\n    }\n\n    .dataframe thead th {\n        text-align: right;\n    }\n</style>\n<table border=\"1\" class=\"dataframe\">\n  <thead>\n    <tr style=\"text-align: right;\">\n      <th></th>\n      <th>Suported</th>\n      <th>Reliability</th>\n      <th>Lift</th>\n    </tr>\n  </thead>\n  <tbody>\n    <tr>\n      <th>Моторное масло | Топливный фильтр тонкой очистки, Свечи зажигания на моделях с бензиновым ДВС, Воздушный фильтр ДВС, Масляный фильтр ДВС</th>\n      <td>30.0</td>\n      <td>50.0</td>\n      <td>1.67</td>\n    </tr>\n    <tr>\n      <th>Масляный фильтр ДВС | Свечи зажигания на моделях с бензиновым ДВС, Топливный фильтр тонкой очистки, Воздушный фильтр ДВС</th>\n      <td>30.0</td>\n      <td>50.0</td>\n      <td>1.67</td>\n    </tr>\n    <tr>\n      <th>Масляный фильтр ДВС | Топливный фильтр тонкой очистки, Воздушный фильтр ДВС</th>\n      <td>30.0</td>\n      <td>50.0</td>\n      <td>1.67</td>\n    </tr>\n    <tr>\n      <th>Масляный фильтр ДВС | Свечи зажигания на моделях с бензиновым ДВС, Моторное масло, Воздушный фильтр ДВС</th>\n      <td>30.0</td>\n      <td>50.0</td>\n      <td>1.67</td>\n    </tr>\n    <tr>\n      <th>Масляный фильтр ДВС | Свечи зажигания на моделях с бензиновым ДВС, Моторное масло, Топливный фильтр тонкой очистки</th>\n      <td>30.0</td>\n      <td>50.0</td>\n      <td>1.67</td>\n    </tr>\n    <tr>\n      <th>Масляный фильтр ДВС | Свечи зажигания на моделях с бензиновым ДВС, Воздушный фильтр ДВС, Моторное масло</th>\n      <td>30.0</td>\n      <td>50.0</td>\n      <td>1.67</td>\n    </tr>\n    <tr>\n      <th>Масляный фильтр ДВС | Свечи зажигания на моделях с бензиновым ДВС, Воздушный фильтр ДВС, Топливный фильтр тонкой очистки</th>\n      <td>30.0</td>\n      <td>50.0</td>\n      <td>1.67</td>\n    </tr>\n    <tr>\n      <th>Масляный фильтр ДВС | Свечи зажигания на моделях с бензиновым ДВС, Топливный фильтр тонкой очистки, Моторное масло</th>\n      <td>30.0</td>\n      <td>50.0</td>\n      <td>1.67</td>\n    </tr>\n    <tr>\n      <th>Масляный фильтр ДВС | Моторное масло, Свечи зажигания на моделях с бензиновым ДВС, Воздушный фильтр ДВС</th>\n      <td>30.0</td>\n      <td>50.0</td>\n      <td>1.67</td>\n    </tr>\n    <tr>\n      <th>Моторное масло | Топливный фильтр тонкой очистки, Свечи зажигания на моделях с бензиновым ДВС, Масляный фильтр ДВС, Воздушный фильтр ДВС</th>\n      <td>30.0</td>\n      <td>50.0</td>\n      <td>1.67</td>\n    </tr>\n    <tr>\n      <th>Масляный фильтр ДВС | Моторное масло, Свечи зажигания на моделях с бензиновым ДВС, Топливный фильтр тонкой очистки</th>\n      <td>30.0</td>\n      <td>50.0</td>\n      <td>1.67</td>\n    </tr>\n    <tr>\n      <th>Масляный фильтр ДВС | Моторное масло, Воздушный фильтр ДВС, Свечи зажигания на моделях с бензиновым ДВС</th>\n      <td>30.0</td>\n      <td>50.0</td>\n      <td>1.67</td>\n    </tr>\n    <tr>\n      <th>Масляный фильтр ДВС | Моторное масло, Воздушный фильтр ДВС, Топливный фильтр тонкой очистки</th>\n      <td>30.0</td>\n      <td>50.0</td>\n      <td>1.67</td>\n    </tr>\n    <tr>\n      <th>Масляный фильтр ДВС | Моторное масло, Топливный фильтр тонкой очистки, Свечи зажигания на моделях с бензиновым ДВС</th>\n      <td>30.0</td>\n      <td>50.0</td>\n      <td>1.67</td>\n    </tr>\n    <tr>\n      <th>Масляный фильтр ДВС | Моторное масло, Топливный фильтр тонкой очистки, Воздушный фильтр ДВС</th>\n      <td>30.0</td>\n      <td>50.0</td>\n      <td>1.67</td>\n    </tr>\n    <tr>\n      <th>Масляный фильтр ДВС | Воздушный фильтр ДВС, Свечи зажигания на моделях с бензиновым ДВС, Моторное масло</th>\n      <td>30.0</td>\n      <td>50.0</td>\n      <td>1.67</td>\n    </tr>\n    <tr>\n      <th>Масляный фильтр ДВС | Топливный фильтр тонкой очистки, Моторное масло</th>\n      <td>30.0</td>\n      <td>50.0</td>\n      <td>1.67</td>\n    </tr>\n    <tr>\n      <th>Масляный фильтр ДВС | Топливный фильтр тонкой очистки, Свечи зажигания на моделях с бензиновым ДВС</th>\n      <td>30.0</td>\n      <td>50.0</td>\n      <td>1.67</td>\n    </tr>\n    <tr>\n      <th>Масляный фильтр ДВС | Воздушный фильтр ДВС, Топливный фильтр тонкой очистки</th>\n      <td>30.0</td>\n      <td>50.0</td>\n      <td>1.67</td>\n    </tr>\n    <tr>\n      <th>Масляный фильтр ДВС | Воздушный фильтр ДВС, Моторное масло</th>\n      <td>30.0</td>\n      <td>50.0</td>\n      <td>1.67</td>\n    </tr>\n    <tr>\n      <th>Масляный фильтр ДВС | Воздушный фильтр ДВС, Свечи зажигания на моделях с бензиновым ДВС</th>\n      <td>30.0</td>\n      <td>50.0</td>\n      <td>1.67</td>\n    </tr>\n    <tr>\n      <th>Масляный фильтр ДВС | Моторное масло, Топливный фильтр тонкой очистки</th>\n      <td>30.0</td>\n      <td>50.0</td>\n      <td>1.67</td>\n    </tr>\n    <tr>\n      <th>Масляный фильтр ДВС | Моторное масло, Воздушный фильтр ДВС</th>\n      <td>30.0</td>\n      <td>50.0</td>\n      <td>1.67</td>\n    </tr>\n    <tr>\n      <th>Масляный фильтр ДВС | Моторное масло, Свечи зажигания на моделях с бензиновым ДВС</th>\n      <td>30.0</td>\n      <td>50.0</td>\n      <td>1.67</td>\n    </tr>\n    <tr>\n      <th>Масляный фильтр ДВС | Свечи зажигания на моделях с бензиновым ДВС, Топливный фильтр тонкой очистки</th>\n      <td>30.0</td>\n      <td>50.0</td>\n      <td>1.67</td>\n    </tr>\n    <tr>\n      <th>Масляный фильтр ДВС | Свечи зажигания на моделях с бензиновым ДВС, Воздушный фильтр ДВС</th>\n      <td>30.0</td>\n      <td>50.0</td>\n      <td>1.67</td>\n    </tr>\n    <tr>\n      <th>Масляный фильтр ДВС | Свечи зажигания на моделях с бензиновым ДВС, Моторное масло</th>\n      <td>30.0</td>\n      <td>50.0</td>\n      <td>1.67</td>\n    </tr>\n    <tr>\n      <th>Масляный фильтр ДВС | Топливный фильтр тонкой очистки</th>\n      <td>30.0</td>\n      <td>50.0</td>\n      <td>1.67</td>\n    </tr>\n    <tr>\n      <th>Масляный фильтр ДВС | Воздушный фильтр ДВС</th>\n      <td>30.0</td>\n      <td>50.0</td>\n      <td>1.67</td>\n    </tr>\n    <tr>\n      <th>Масляный фильтр ДВС | Свечи зажигания на моделях с бензиновым ДВС</th>\n      <td>30.0</td>\n      <td>50.0</td>\n      <td>1.67</td>\n    </tr>\n    <tr>\n      <th>Моторное масло | Топливный фильтр тонкой очистки, Масляный фильтр ДВС, Воздушный фильтр ДВС, Свечи зажигания на моделях с бензиновым ДВС</th>\n      <td>30.0</td>\n      <td>50.0</td>\n      <td>1.67</td>\n    </tr>\n    <tr>\n      <th>Моторное масло | Топливный фильтр тонкой очистки, Масляный фильтр ДВС, Свечи зажигания на моделях с бензиновым ДВС, Воздушный фильтр ДВС</th>\n      <td>30.0</td>\n      <td>50.0</td>\n      <td>1.67</td>\n    </tr>\n    <tr>\n      <th>Моторное масло | Топливный фильтр тонкой очистки, Воздушный фильтр ДВС, Масляный фильтр ДВС, Свечи зажигания на моделях с бензиновым ДВС</th>\n      <td>30.0</td>\n      <td>50.0</td>\n      <td>1.67</td>\n    </tr>\n    <tr>\n      <th>Масляный фильтр ДВС | Воздушный фильтр ДВС, Свечи зажигания на моделях с бензиновым ДВС, Топливный фильтр тонкой очистки</th>\n      <td>30.0</td>\n      <td>50.0</td>\n      <td>1.67</td>\n    </tr>\n    <tr>\n      <th>Масляный фильтр ДВС | Воздушный фильтр ДВС, Моторное масло, Свечи зажигания на моделях с бензиновым ДВС</th>\n      <td>30.0</td>\n      <td>50.0</td>\n      <td>1.67</td>\n    </tr>\n    <tr>\n      <th>Масляный фильтр ДВС | Воздушный фильтр ДВС, Моторное масло, Топливный фильтр тонкой очистки</th>\n      <td>30.0</td>\n      <td>50.0</td>\n      <td>1.67</td>\n    </tr>\n    <tr>\n      <th>Масляный фильтр ДВС | Моторное масло, Воздушный фильтр ДВС, Свечи зажигания на моделях с бензиновым ДВС, Топливный фильтр тонкой очистки</th>\n      <td>30.0</td>\n      <td>50.0</td>\n      <td>1.67</td>\n    </tr>\n    <tr>\n      <th>Масляный фильтр ДВС | Топливный фильтр тонкой очистки, Воздушный фильтр ДВС, Свечи зажигания на моделях с бензиновым ДВС, Моторное масло</th>\n      <td>30.0</td>\n      <td>50.0</td>\n      <td>1.67</td>\n    </tr>\n    <tr>\n      <th>Масляный фильтр ДВС | Топливный фильтр тонкой очистки, Моторное масло, Воздушный фильтр ДВС, Свечи зажигания на моделях с бензиновым ДВС</th>\n      <td>30.0</td>\n      <td>50.0</td>\n      <td>1.67</td>\n    </tr>\n    <tr>\n      <th>Масляный фильтр ДВС | Топливный фильтр тонкой очистки, Моторное масло, Свечи зажигания на моделях с бензиновым ДВС, Воздушный фильтр ДВС</th>\n      <td>30.0</td>\n      <td>50.0</td>\n      <td>1.67</td>\n    </tr>\n  </tbody>\n</table>\n</div>"
     },
     "execution_count": 62,
     "metadata": {},
     "output_type": "execute_result"
    }
   ],
   "source": [
    "Dataframe.sort_values('Lift', ascending=False).head(40)"
   ]
  },
  {
   "cell_type": "code",
   "execution_count": 63,
   "id": "a45fcedd",
   "metadata": {
    "scrolled": false,
    "ExecuteTime": {
     "end_time": "2023-05-10T21:21:49.023677400Z",
     "start_time": "2023-05-10T21:21:48.967398400Z"
    }
   },
   "outputs": [
    {
     "data": {
      "text/plain": "                                                    Suported  Reliability  \\\nМоторное масло | Топливный фильтр тонкой очистк...      30.0        50.00   \nМасляный фильтр ДВС | Свечи зажигания на моделя...      30.0        50.00   \nМасляный фильтр ДВС | Топливный фильтр тонкой о...      30.0        50.00   \nМасляный фильтр ДВС | Свечи зажигания на моделя...      30.0        50.00   \nМасляный фильтр ДВС | Свечи зажигания на моделя...      30.0        50.00   \n...                                                      ...          ...   \nПередние тормозные колодки | Масляный фильтр ДВ...      30.0        42.86   \nПередние тормозные колодки | Масляный фильтр ДВС        30.0        42.86   \nМоторное масло | Передние тормозные колодки             30.0        50.00   \nМасляный фильтр ДВС | Передние тормозные колодки        30.0        50.00   \nПередние тормозные колодки | Моторное масло             30.0        42.86   \n\n                                                    Lift  \nМоторное масло | Топливный фильтр тонкой очистк...  1.67  \nМасляный фильтр ДВС | Свечи зажигания на моделя...  1.67  \nМасляный фильтр ДВС | Топливный фильтр тонкой о...  1.67  \nМасляный фильтр ДВС | Свечи зажигания на моделя...  1.67  \nМасляный фильтр ДВС | Свечи зажигания на моделя...  1.67  \n...                                                  ...  \nПередние тормозные колодки | Масляный фильтр ДВ...  0.71  \nПередние тормозные колодки | Масляный фильтр ДВС    0.71  \nМоторное масло | Передние тормозные колодки         0.71  \nМасляный фильтр ДВС | Передние тормозные колодки    0.71  \nПередние тормозные колодки | Моторное масло         0.71  \n\n[137 rows x 3 columns]",
      "text/html": "<div>\n<style scoped>\n    .dataframe tbody tr th:only-of-type {\n        vertical-align: middle;\n    }\n\n    .dataframe tbody tr th {\n        vertical-align: top;\n    }\n\n    .dataframe thead th {\n        text-align: right;\n    }\n</style>\n<table border=\"1\" class=\"dataframe\">\n  <thead>\n    <tr style=\"text-align: right;\">\n      <th></th>\n      <th>Suported</th>\n      <th>Reliability</th>\n      <th>Lift</th>\n    </tr>\n  </thead>\n  <tbody>\n    <tr>\n      <th>Моторное масло | Топливный фильтр тонкой очистки, Свечи зажигания на моделях с бензиновым ДВС, Воздушный фильтр ДВС, Масляный фильтр ДВС</th>\n      <td>30.0</td>\n      <td>50.00</td>\n      <td>1.67</td>\n    </tr>\n    <tr>\n      <th>Масляный фильтр ДВС | Свечи зажигания на моделях с бензиновым ДВС, Топливный фильтр тонкой очистки, Воздушный фильтр ДВС</th>\n      <td>30.0</td>\n      <td>50.00</td>\n      <td>1.67</td>\n    </tr>\n    <tr>\n      <th>Масляный фильтр ДВС | Топливный фильтр тонкой очистки, Воздушный фильтр ДВС</th>\n      <td>30.0</td>\n      <td>50.00</td>\n      <td>1.67</td>\n    </tr>\n    <tr>\n      <th>Масляный фильтр ДВС | Свечи зажигания на моделях с бензиновым ДВС, Моторное масло, Воздушный фильтр ДВС</th>\n      <td>30.0</td>\n      <td>50.00</td>\n      <td>1.67</td>\n    </tr>\n    <tr>\n      <th>Масляный фильтр ДВС | Свечи зажигания на моделях с бензиновым ДВС, Моторное масло, Топливный фильтр тонкой очистки</th>\n      <td>30.0</td>\n      <td>50.00</td>\n      <td>1.67</td>\n    </tr>\n    <tr>\n      <th>...</th>\n      <td>...</td>\n      <td>...</td>\n      <td>...</td>\n    </tr>\n    <tr>\n      <th>Передние тормозные колодки | Масляный фильтр ДВС, Моторное масло</th>\n      <td>30.0</td>\n      <td>42.86</td>\n      <td>0.71</td>\n    </tr>\n    <tr>\n      <th>Передние тормозные колодки | Масляный фильтр ДВС</th>\n      <td>30.0</td>\n      <td>42.86</td>\n      <td>0.71</td>\n    </tr>\n    <tr>\n      <th>Моторное масло | Передние тормозные колодки</th>\n      <td>30.0</td>\n      <td>50.00</td>\n      <td>0.71</td>\n    </tr>\n    <tr>\n      <th>Масляный фильтр ДВС | Передние тормозные колодки</th>\n      <td>30.0</td>\n      <td>50.00</td>\n      <td>0.71</td>\n    </tr>\n    <tr>\n      <th>Передние тормозные колодки | Моторное масло</th>\n      <td>30.0</td>\n      <td>42.86</td>\n      <td>0.71</td>\n    </tr>\n  </tbody>\n</table>\n<p>137 rows × 3 columns</p>\n</div>"
     },
     "execution_count": 63,
     "metadata": {},
     "output_type": "execute_result"
    }
   ],
   "source": [
    "Dataframe.sort_values('Lift', ascending=False)"
   ]
  },
  {
   "cell_type": "code",
   "execution_count": null,
   "outputs": [],
   "source": [],
   "metadata": {
    "collapsed": false
   }
  }
 ],
 "metadata": {
  "kernelspec": {
   "display_name": "Python 3 (ipykernel)",
   "language": "python",
   "name": "python3"
  },
  "language_info": {
   "codemirror_mode": {
    "name": "ipython",
    "version": 3
   },
   "file_extension": ".py",
   "mimetype": "text/x-python",
   "name": "python",
   "nbconvert_exporter": "python",
   "pygments_lexer": "ipython3",
   "version": "3.11.0"
  }
 },
 "nbformat": 4,
 "nbformat_minor": 5
}
