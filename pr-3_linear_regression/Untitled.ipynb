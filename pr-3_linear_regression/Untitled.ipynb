{
 "cells": [
  {
   "cell_type": "code",
   "execution_count": 1,
   "id": "71700369",
   "metadata": {},
   "outputs": [],
   "source": [
    "import pandas as pd\n",
    "import matplotlib.pyplot as plt\n",
    "import math\n",
    "import pandas as pd\n",
    "import random"
   ]
  },
  {
   "cell_type": "code",
   "execution_count": 19,
   "id": "4258eb26",
   "metadata": {},
   "outputs": [],
   "source": [
    "mass = [[1, 13, 1000, 1323.4, 0],\n",
    "        [2, 20, 600, 305.6, 1],\n",
    "        [3, 17, 500, 741.8, 0],\n",
    "        [4, 15, 1200, 1032.6, 1],\n",
    "        [5, 16, 1000, 887.2, 1],\n",
    "        [6, 12, 1500, 1468.8, 1],\n",
    "        [7, 16, 500, 887.2, 0],\n",
    "        [8, 14, 1200, 1178.0, 1],\n",
    "        [9, 10, 1700, 1759.6, 0],\n",
    "        [10, 11, 2000, 1614.2, 1]]"
   ]
  },
  {
   "cell_type": "code",
   "execution_count": 15,
   "id": "61ea2c6b",
   "metadata": {},
   "outputs": [
    {
     "data": {
      "image/png": "[encoded data removed]",
      "text/plain": [
       "<Figure size 1000x700 with 1 Axes>"
      ]
     },
     "metadata": {},
     "output_type": "display_data"
    }
   ],
   "source": [
    "fig = plt.figure(figsize=(10, 7))\n",
    "axis = fig.add_subplot()\n",
    "axis.grid()\n",
    "for i in mass:\n",
    "    if i[-1] == 0:\n",
    "        axis.scatter(i[1], i[2], s=50, c='black')\n",
    "    else:\n",
    "        axis.scatter(i[1], i[2], s=50, c='r')\n",
    "plt.xlim(0,25)\n",
    "plt.ylim(0,2500)\n",
    "plt.show()"
   ]
  },
  {
   "cell_type": "markdown",
   "id": "5b3a123d",
   "metadata": {},
   "source": [
    "y^=b0+b1x+e\n",
    "y^ - выходное значение\n",
    "b0 - коэффициент, определяющий точку пересечения линии с осью y, называемый также свободным членом Коэффициент b_1 определяет наклон линии относительно оси x (иногда ero называют угловым коэффициентом).\n",
    "b1 - это величина, на которую изменяется значение выходной переменной y при изменении входной переменной x на единицу.\n",
    "e-ошибка.\n"
   ]
  },
  {
   "cell_type": "markdown",
   "id": "60cc911e",
   "metadata": {},
   "source": [
    "b0·n + b1·∑x = ∑y \n",
    "b0*∑x + b1·∑x^2 = ∑y·x\n",
    "\n",
    "10 b0+144·b1=11200\n",
    "144·d0 + 2156·b1 = 149300"
   ]
  },
  {
   "cell_type": "code",
   "execution_count": 16,
   "id": "aec334e4",
   "metadata": {},
   "outputs": [
    {
     "name": "stdout",
     "output_type": "stream",
     "text": [
      "n = 10\n",
      "summ x = 144\n",
      "summ x**2 = 2156\n",
      "summ y = 11200\n",
      "summ xy = 149300\n"
     ]
    }
   ],
   "source": [
    "n = len(mass)\n",
    "summ_x = 0\n",
    "summ_y = 0\n",
    "summ_x2 = 0\n",
    "summ_xy = 0\n",
    "for i in mass:\n",
    "    summ_x += i[1]\n",
    "for i in mass:\n",
    "    summ_x2 += i[1] ** 2\n",
    "for i in mass:\n",
    "    summ_y += i[2]\n",
    "for i in mass:\n",
    "    summ_xy += i[1] * i[2]\n",
    "\n",
    "print('n =', n)\n",
    "print('summ x =', summ_x)\n",
    "print('summ x**2 =', summ_x2)\n",
    "print('summ y =', summ_y)\n",
    "print('summ xy =', summ_xy)"
   ]
  },
  {
   "cell_type": "code",
   "execution_count": 29,
   "id": "f85cc1d5",
   "metadata": {},
   "outputs": [
    {
     "name": "stdout",
     "output_type": "stream",
     "text": [
      "b0 * 10 + b1 * 144 = 11200\n"
     ]
    }
   ],
   "source": [
    "print(f'b0 * {n} + b1 * {summ_x} = {summ_y}')"
   ]
  },
  {
   "cell_type": "code",
   "execution_count": 30,
   "id": "45f7b60b",
   "metadata": {},
   "outputs": [
    {
     "name": "stdout",
     "output_type": "stream",
     "text": [
      "144 · b0 + 2156 · b1 = 149300 |==| 149300\n"
     ]
    }
   ],
   "source": [
    "print(f'{summ_x} · b0 + {summ_x2} · b1 = {summ_xy} |==| 149300')"
   ]
  },
  {
   "cell_type": "code",
   "execution_count": 31,
   "id": "4b64e2b1",
   "metadata": {},
   "outputs": [
    {
     "name": "stdout",
     "output_type": "stream",
     "text": [
      "b0 = 11200/10 - 144·b1 = 1120.0 - 14.4*b1 \n"
     ]
    }
   ],
   "source": [
    "print(f'b0 = {summ_y}/{n} - {summ_x}·b1 = {summ_y/n} - {summ_x/n}*b1 ')"
   ]
  },
  {
   "cell_type": "code",
   "execution_count": 32,
   "id": "7f0e88ce",
   "metadata": {},
   "outputs": [
    {
     "name": "stdout",
     "output_type": "stream",
     "text": [
      "144 * (1120.0 - 14.4·b1) + 20736·b1 = 145600\n"
     ]
    }
   ],
   "source": [
    "print(f'{summ_x} * ({summ_y/n} - {summ_x/n}·b1) + {summ_x**2}·b1 = {mass[0][1]*summ_y}')"
   ]
  },
  {
   "cell_type": "code",
   "execution_count": 33,
   "id": "1200d32e",
   "metadata": {},
   "outputs": [
    {
     "name": "stdout",
     "output_type": "stream",
     "text": [
      "-11980.0 / 82.40000000000009\n"
     ]
    },
    {
     "data": {
      "text/plain": [
       "-145.388"
      ]
     },
     "execution_count": 33,
     "metadata": {},
     "output_type": "execute_result"
    }
   ],
   "source": [
    "b1 = round((-(summ_x * (summ_y/n)) + (summ_xy)) / (summ_x*(-summ_x/n) + (summ_x2)), 3)\n",
    "print(f'{(-(summ_x * (summ_y/n)) + (summ_xy))} / {(summ_x*(-summ_x/n) + (summ_x2))}')\n",
    "b1"
   ]
  },
  {
   "cell_type": "code",
   "execution_count": 34,
   "id": "01e072b5",
   "metadata": {},
   "outputs": [
    {
     "name": "stdout",
     "output_type": "stream",
     "text": [
      "3213.587 = 1120.0 - 14.4 * b1\n"
     ]
    }
   ],
   "source": [
    "b0 = round(summ_y/n - summ_x/n*b1, 3)\n",
    "print(f'{b0} = {summ_y/n} - {summ_x/n} * b1')"
   ]
  },
  {
   "cell_type": "code",
   "execution_count": 35,
   "id": "71275334",
   "metadata": {},
   "outputs": [
    {
     "name": "stdout",
     "output_type": "stream",
     "text": [
      "b0 = 3213.587\n",
      "b1 = -145.388\n"
     ]
    }
   ],
   "source": [
    "print(f'b0 = {b0}')\n",
    "print(f'b1 = {b1}')"
   ]
  },
  {
   "cell_type": "code",
   "execution_count": 36,
   "id": "77857344",
   "metadata": {},
   "outputs": [
    {
     "name": "stdout",
     "output_type": "stream",
     "text": [
      "y^ = 3213.587 + -145.388 * x\n",
      "1323.543 = 3213.587 + -145.388 * x\n"
     ]
    }
   ],
   "source": [
    "print(f'y^ = {b0} + {b1} * x')\n",
    "dy = round(b0+b1 * mass[0][1], 3)\n",
    "print(f'{dy} = {b0} + {b1} * x')"
   ]
  },
  {
   "cell_type": "code",
   "execution_count": 20,
   "id": "e85926ad",
   "metadata": {},
   "outputs": [
    {
     "name": "stdout",
     "output_type": "stream",
     "text": [
      "n = 10\n",
      "summ x = 144\n",
      "summ x**2 = 2156\n",
      "summ y = 11200\n",
      "summ xy = 149300\n",
      "\n",
      "для x = 13 и y = 1000\n",
      "b0 = -145.388\n",
      "b1 = 3213.587\n",
      "dy = 1323.543\n",
      "\n",
      "для x = 20 и y = 600\n",
      "b0 = -145.388\n",
      "b1 = 3213.587\n",
      "dy = 305.827\n",
      "\n",
      "для x = 17 и y = 500\n",
      "b0 = -145.388\n",
      "b1 = 3213.587\n",
      "dy = 741.991\n",
      "\n",
      "для x = 15 и y = 1200\n",
      "b0 = -145.388\n",
      "b1 = 3213.587\n",
      "dy = 1032.767\n",
      "\n",
      "для x = 16 и y = 1000\n",
      "b0 = -145.388\n",
      "b1 = 3213.587\n",
      "dy = 887.379\n",
      "\n",
      "для x = 12 и y = 1500\n",
      "b0 = -145.388\n",
      "b1 = 3213.587\n",
      "dy = 1468.931\n",
      "\n",
      "для x = 16 и y = 500\n",
      "b0 = -145.388\n",
      "b1 = 3213.587\n",
      "dy = 887.379\n",
      "\n",
      "для x = 14 и y = 1200\n",
      "b0 = -145.388\n",
      "b1 = 3213.587\n",
      "dy = 1178.155\n",
      "\n",
      "для x = 10 и y = 1700\n",
      "b0 = -145.388\n",
      "b1 = 3213.587\n",
      "dy = 1759.707\n",
      "\n",
      "для x = 11 и y = 2000\n",
      "b0 = -145.388\n",
      "b1 = 3213.587\n",
      "dy = 1614.319\n",
      "\n"
     ]
    }
   ],
   "source": [
    "n = len(mass)\n",
    "summ_x = 0\n",
    "summ_y = 0\n",
    "summ_x2 = 0\n",
    "summ_xy = 0\n",
    "for i in mass:\n",
    "    summ_x += i[1]\n",
    "for i in mass:\n",
    "    summ_x2 += i[1] ** 2\n",
    "for i in mass:\n",
    "    summ_y += i[2]\n",
    "for i in mass:\n",
    "    summ_xy += i[1] * i[2]\n",
    "\n",
    "print('n =', n)\n",
    "print('summ x =', summ_x)\n",
    "print('summ x**2 =', summ_x2)\n",
    "print('summ y =', summ_y)\n",
    "print('summ xy =', summ_xy)\n",
    "for i in range(len(mass)):\n",
    "    b1 = round((-(summ_x * (summ_y/n)) + (summ_xy)) / (summ_x*(-summ_x/n) + (summ_x2)), 3)\n",
    "    mass[i].append(b1)\n",
    "    b0 = round(summ_y / n - summ_x / n * b1, 3)\n",
    "    mass[i].append(b0)\n",
    "    dy = round(b0 + b1 * mass[i][1], 3)\n",
    "    mass[i].append(dy)\n",
    "print()\n",
    "for i in range(len(mass)):\n",
    "    print(f'для x = {mass[i][1]} и y = {mass[i][2]}')\n",
    "    print('b0 =', mass[i][-3])\n",
    "    print('b1 =', mass[i][-2])\n",
    "    print('dy =',mass[i][-1])\n",
    "    print()"
   ]
  },
  {
   "cell_type": "code",
   "execution_count": 21,
   "id": "3300c469",
   "metadata": {},
   "outputs": [
    {
     "name": "stdout",
     "output_type": "stream",
     "text": [
      "[1, 13, 1000, 1323.4, 0, -145.388, 3213.587, 1323.543, -323.543, 104680.073]\n",
      "[2, 20, 600, 305.6, 1, -145.388, 3213.587, 305.827, 294.173, 86537.754]\n",
      "[3, 17, 500, 741.8, 0, -145.388, 3213.587, 741.991, -241.991, 58559.644]\n",
      "[4, 15, 1200, 1032.6, 1, -145.388, 3213.587, 1032.767, 167.233, 27966.876]\n",
      "[5, 16, 1000, 887.2, 1, -145.388, 3213.587, 887.379, 112.621, 12683.49]\n",
      "[6, 12, 1500, 1468.8, 1, -145.388, 3213.587, 1468.931, 31.069, 965.283]\n",
      "[7, 16, 500, 887.2, 0, -145.388, 3213.587, 887.379, -387.379, 150062.49]\n",
      "[8, 14, 1200, 1178.0, 1, -145.388, 3213.587, 1178.155, 21.845, 477.204]\n",
      "[9, 10, 1700, 1759.6, 0, -145.388, 3213.587, 1759.707, -59.707, 3564.926]\n",
      "[10, 11, 2000, 1614.2, 1, -145.388, 3213.587, 1614.319, 385.681, 148749.834]\n"
     ]
    }
   ],
   "source": [
    "for i in range(len(mass)):\n",
    "    y_dy = mass[i][2] - mass[i][-1]\n",
    "    y_dy2 = y_dy**2\n",
    "    mass[i].append(round(y_dy,3))\n",
    "    mass[i].append(round(y_dy2,3))\n",
    "for i in mass:\n",
    "    print(i)"
   ]
  },
  {
   "cell_type": "code",
   "execution_count": 23,
   "id": "8aeb6f3e",
   "metadata": {},
   "outputs": [
    {
     "name": "stdout",
     "output_type": "stream",
     "text": [
      "Q = 594247.574\n"
     ]
    }
   ],
   "source": [
    "Q = 0\n",
    "for i in mass:\n",
    "    Q+= i[-1]\n",
    "print('Q =', Q)"
   ]
  },
  {
   "cell_type": "code",
   "execution_count": 26,
   "id": "27137504",
   "metadata": {},
   "outputs": [],
   "source": [
    "summ_y2 = 0\n",
    "for i in mass:\n",
    "    summ_y2 += i[2] **2"
   ]
  },
  {
   "cell_type": "code",
   "execution_count": 37,
   "id": "598be542",
   "metadata": {},
   "outputs": [],
   "source": [
    "r = (summ_xy - (summ_x * summ_y)/n) / (math.sqrt (summ_x2-(summ_x**2)/n) * math.sqrt(summ_y2 - (summ_y**2) /10))"
   ]
  },
  {
   "cell_type": "code",
   "execution_count": 38,
   "id": "2c3f3a55",
   "metadata": {},
   "outputs": [],
   "source": [
    "r = math.sqrt(r**2)"
   ]
  },
  {
   "cell_type": "code",
   "execution_count": 39,
   "id": "6477ee66",
   "metadata": {},
   "outputs": [
    {
     "data": {
      "text/plain": [
       "0.8634889672536017"
      ]
     },
     "execution_count": 39,
     "metadata": {},
     "output_type": "execute_result"
    }
   ],
   "source": [
    "r"
   ]
  },
  {
   "cell_type": "code",
   "execution_count": 6,
   "id": "107bdade",
   "metadata": {},
   "outputs": [
    {
     "name": "stdout",
     "output_type": "stream",
     "text": [
      "summ_for_Ecko = 594247.574\n"
     ]
    }
   ],
   "source": [
    "summ_for_Ecko = 0\n",
    "for i in range(len(mass)):\n",
    "    summ_for_Ecko += (round((mass[i][-1]-mass[i][2])**2, 3))\n",
    "print('summ_for_Ecko =',summ_for_Ecko)"
   ]
  },
  {
   "cell_type": "code",
   "execution_count": 7,
   "id": "1a441fcc",
   "metadata": {},
   "outputs": [
    {
     "name": "stdout",
     "output_type": "stream",
     "text": [
      "Ecko = 74280.947\n",
      "Ect =  272.545\n"
     ]
    }
   ],
   "source": [
    "m = 1\n",
    "Ecko = round(summ_for_Ecko/(n-m-1), 3)\n",
    "print(\"Ecko =\", Ecko)\n",
    "Ect = round(math.sqrt(Ecko), 3)\n",
    "print('Ect = ', Ect)"
   ]
  },
  {
   "cell_type": "code",
   "execution_count": 8,
   "id": "0f76f1fc",
   "metadata": {},
   "outputs": [
    {
     "data": {
      "image/png": "[encoded data removed]",
      "text/plain": [
       "<Figure size 1000x700 with 1 Axes>"
      ]
     },
     "metadata": {},
     "output_type": "display_data"
    }
   ],
   "source": [
    "fig = plt.figure(figsize=(10, 7))\n",
    "axis = fig.add_subplot()\n",
    "axis.grid()\n",
    "\n",
    "for i in mass:\n",
    "    if i[-4] == 0:\n",
    "        axis.scatter(i[1], i[2], s=50, c='black')\n",
    "    else:\n",
    "        axis.scatter(i[1], i[2], s=50, c='r')\n",
    "    axis.scatter(i[1], i[-1], s=50, c='y')\n",
    "plt.xlim(0,25)\n",
    "plt.ylim(0,2500)\n",
    "plt.show()"
   ]
  },
  {
   "cell_type": "code",
   "execution_count": null,
   "id": "8a724b3d",
   "metadata": {},
   "outputs": [],
   "source": []
  },
  {
   "cell_type": "code",
   "execution_count": null,
   "id": "3948d174",
   "metadata": {},
   "outputs": [],
   "source": []
  },
  {
   "cell_type": "code",
   "execution_count": null,
   "id": "ca2f4886",
   "metadata": {},
   "outputs": [],
   "source": []
  },
  {
   "cell_type": "code",
   "execution_count": 115,
   "id": "45b58dd0",
   "metadata": {},
   "outputs": [
    {
     "name": "stdout",
     "output_type": "stream",
     "text": [
      "n = 10\n",
      "summ x = 144\n",
      "summ x**2 = 2156\n",
      "summ y = 11200\n",
      "summ xy = 149300\n",
      "b0 [1270354.176, 1270354.176, 1270354.176, 1270354.176, 1270354.176, 1270354.176, 1270354.176, 1270354.176, 1270354.176, 1270354.176]\n",
      "b1 [78.767, 78.767, 78.767, 78.767, 78.767, 78.767, 78.767, 78.767, 78.767, 78.767]\n",
      "y [1271378.147, 1271929.516, 1271693.215, 1271535.681, 1271614.448, 1271299.38, 1271614.448, 1271456.914, 1271141.846, 1271220.613]\n"
     ]
    }
   ],
   "source": [
    "n = len(mass)\n",
    "summ_x = 0\n",
    "summ_y = 0\n",
    "summ_x2 = 0\n",
    "summ_xy = 0\n",
    "for i in mass:\n",
    "    summ_x += i[1]\n",
    "for i in mass:\n",
    "    summ_x2 += i[1] ** 2\n",
    "for i in mass:\n",
    "    summ_y += i[2]\n",
    "for i in mass:\n",
    "    summ_xy += i[1] * i[2]\n",
    "\n",
    "print('n =', n)\n",
    "print('summ x =', summ_x)\n",
    "print('summ x**2 =', summ_x2)\n",
    "print('summ y =', summ_y)\n",
    "print('summ xy =', summ_xy)\n",
    "\n",
    "mass_b0 = []\n",
    "mass_b1 = []\n",
    "mass_y = []\n",
    "mass_dy = []\n",
    "\n",
    "for i in mass:\n",
    "    b1 = ((summ_xy-(summ_x*summ_y))/n) / (((summ_x2)-(summ_x**2))/n)\n",
    "    b1 = round(b1, 3)\n",
    "    mass_b1.append(b1)\n",
    "    b0 = (1/n)*summ_y * (b1/n) * summ_x\n",
    "    b0 = round(b0, 3)\n",
    "    mass_b0.append(b0)\n",
    "    dy = round(b0 + b1 * i[1], 3)\n",
    "    mass_dy.append(dy)\n",
    "print('b0', mass_b0)\n",
    "print('b1', mass_b1)\n",
    "print('y', mass_dy)"
   ]
  }
 ],
 "metadata": {
  "kernelspec": {
   "display_name": "Python 3 (ipykernel)",
   "language": "python",
   "name": "python3"
  },
  "language_info": {
   "codemirror_mode": {
    "name": "ipython",
    "version": 3
   },
   "file_extension": ".py",
   "mimetype": "text/x-python",
   "name": "python",
   "nbconvert_exporter": "python",
   "pygments_lexer": "ipython3",
   "version": "3.10.7"
  }
 },
 "nbformat": 4,
 "nbformat_minor": 5
}
