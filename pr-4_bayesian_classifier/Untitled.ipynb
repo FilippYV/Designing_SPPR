{
 "cells": [
  {
   "cell_type": "code",
   "execution_count": 1,
   "id": "53a183af",
   "metadata": {},
   "outputs": [],
   "source": [
    "import math"
   ]
  },
  {
   "cell_type": "code",
   "execution_count": 12,
   "id": "841c929f",
   "metadata": {},
   "outputs": [],
   "source": [
    "data_gym = [['+', '-'],\n",
    "            ['+', '+'],\n",
    "            ['-', '-'],\n",
    "            ['-', '-'],\n",
    "            ['-', '+'],\n",
    "            ['+', '-'],\n",
    "            ['+', '+'],\n",
    "            ['+', '-'],\n",
    "            ['-', '+'],\n",
    "            ['-', '-']]\n",
    "answers = ['+', '-', '+', '+', '-', '-', '-', '+', '-', '-']"
   ]
  },
  {
   "cell_type": "code",
   "execution_count": 30,
   "id": "caa48a73",
   "metadata": {},
   "outputs": [
    {
     "data": {
      "text/plain": [
       "[['+', '-'], ['-', '+']]"
      ]
     },
     "execution_count": 30,
     "metadata": {},
     "output_type": "execute_result"
    }
   ],
   "source": [
    "unique_stay = []\n",
    "for index, mass in enumerate(data_gym[0]):\n",
    "    unique_stay.append([])\n",
    "for index, mass in enumerate(data_gym):\n",
    "    for index_2, mass_2 in enumerate(unique_stay):\n",
    "        if data_gym[index][index_2] not in unique_stay[index_2]:\n",
    "            unique_stay[index_2].append(data_gym[index][index_2])\n",
    "unique_stay"
   ]
  },
  {
   "cell_type": "code",
   "execution_count": 36,
   "id": "c30c6395",
   "metadata": {},
   "outputs": [
    {
     "data": {
      "text/plain": [
       "[2, ['+', '-']]"
      ]
     },
     "execution_count": 36,
     "metadata": {},
     "output_type": "execute_result"
    }
   ],
   "source": [
    "count_class = [len(set(answers)), list(set(answers))]\n",
    "count_class"
   ]
  },
  {
   "cell_type": "code",
   "execution_count": 44,
   "id": "b8db7aa2",
   "metadata": {},
   "outputs": [
    {
     "data": {
      "text/plain": [
       "[0.4, 0.6]"
      ]
     },
     "execution_count": 44,
     "metadata": {},
     "output_type": "execute_result"
    }
   ],
   "source": [
    "count_ver_class = [0] * count_class[0]\n",
    "for index, mass in enumerate(answers):\n",
    "    for i, mass_i in enumerate(count_class[1]):\n",
    "        if mass == mass_i:\n",
    "            count_ver_class[i] += 1\n",
    "for i, mass in enumerate(count_ver_class):\n",
    "    count_ver_class[i] /= len(answers)\n",
    "count_ver_class\n",
    "    "
   ]
  },
  {
   "cell_type": "code",
   "execution_count": 51,
   "id": "dcf9b692",
   "metadata": {},
   "outputs": [
    {
     "name": "stdout",
     "output_type": "stream",
     "text": [
      "P(критерий 0 = +, answer = +) = 2/4 = 0.5\n",
      "P(критерий 0 = +, answer = -) = 3/6 = 0.5\n",
      "P(критерий 1 = -, answer = +) = 4/4 = 1.0\n",
      "P(критерий 1 = -, answer = -) = 2/6 = 0.3333333333333333\n"
     ]
    },
    {
     "data": {
      "text/plain": [
       "[0.5, 0.5, 1.0, 0.3333333333333333]"
      ]
     },
     "execution_count": 51,
     "metadata": {},
     "output_type": "execute_result"
    }
   ],
   "source": [
    "mass_rasch= ['+', '-'] # ввести данные\n",
    "mass_ver = []\n",
    "for k in range(len(mass_rasch)):\n",
    "    for x in range(count_class[0]):\n",
    "        count_condition = 0\n",
    "        count_ansvers = 0\n",
    "        for i in range(len(data_gym)):\n",
    "            if data_gym[i][k] == mass_rasch[k] and count_class[1][x] == answers[i]:\n",
    "                count_condition += 1\n",
    "                count_ansvers += 1\n",
    "            elif count_class[1][x] == answers[i]:\n",
    "                count_ansvers += 1\n",
    "        print(f'P(критерий {k} = {mass_rasch[k]}, answer = {count_class[1][x]}) = {count_condition}/{count_ansvers} = {count_condition/count_ansvers}')\n",
    "        mass_ver.append(count_condition/count_ansvers)\n",
    "mass_ver\n",
    "    "
   ]
  },
  {
   "cell_type": "code",
   "execution_count": 2,
   "id": "d8a6284d",
   "metadata": {},
   "outputs": [],
   "source": [
    "data_nature = [\n",
    "        [10, 50, \"гусеница\"],\n",
    "        [20, 30, \"божья коровка\"],\n",
    "        [25, 30, \"божья коровка\"],\n",
    "        [20, 60, \"гусеница\"],\n",
    "        [15, 70, \"гусеница\"],\n",
    "        [40, 40, \"божья коровка\"],\n",
    "        [30, 45, \"божья коровка\"],\n",
    "        [20, 45, \"гусеница\"],\n",
    "        [40, 30, \"божья коровка\"],\n",
    "        [7, 35, \"гусеница\"]]"
   ]
  },
  {
   "cell_type": "code",
   "execution_count": 3,
   "id": "b40847a1",
   "metadata": {},
   "outputs": [
    {
     "name": "stdout",
     "output_type": "stream",
     "text": [
      "[1, 0, 0, 1, 1, 0, 0, 1, 0, 1] [1, 0]\n"
     ]
    }
   ],
   "source": [
    "answers = []\n",
    "for indx, mass in enumerate(data_nature):\n",
    "    if data_nature[indx][-1] == \"гусеница\":\n",
    "        answers.append(1)\n",
    "    else:\n",
    "        answers.append(0)\n",
    "unique_answers = list(set(answers))\n",
    "unique_answers = [1,0]\n",
    "print(answers, unique_answers)"
   ]
  },
  {
   "cell_type": "code",
   "execution_count": 4,
   "id": "8cfd3c94",
   "metadata": {},
   "outputs": [
    {
     "name": "stdout",
     "output_type": "stream",
     "text": [
      "expectation for criterion 0, for value 0 = 1/5 * (72) = 14.4\n",
      "expectation for criterion 0, for value 1 = 1/5 * (155) = 31.0\n",
      "expectation for criterion 1, for value 0 = 1/5 * (260) = 52.0\n",
      "expectation for criterion 1, for value 1 = 1/5 * (175) = 35.0\n",
      "expectation = [[14.4, 31.0], [52.0, 35.0]]\n",
      "variance for criterion 0, for value 0 = (1/(5-1)) * (137.2) = 34.3\n",
      "variance for criterion 0, for value 1 = (1/(5-1)) * (320.0) = 80.0\n",
      "variance for criterion 1, for value 0 = (1/(5-1)) * (730.0) = 182.5\n",
      "variance for criterion 1, for value 1 = (1/(5-1)) * (200.0) = 50.0\n",
      "\n",
      "expectation = [[14.4, 31.0], [52.0, 35.0]]\n",
      "variance = [[34.3, 80.0], [182.5, 50.0]]\n"
     ]
    }
   ],
   "source": [
    "expectation = [] #матожидание \n",
    "variance = [] #дисперсия\n",
    "for l in range(len(data_nature[0])-1):\n",
    "    datas_mass = []\n",
    "    for x in range(len(list(set(answers)))):\n",
    "        count = 0\n",
    "        count_value = 0\n",
    "        for i in range(len(data_nature)):\n",
    "            if answers[i] == unique_answers[x]:\n",
    "                count_value += data_nature[i][l]\n",
    "                count += 1\n",
    "        print(f'expectation for criterion {l}, for value {x} = 1/{count} * ({count_value}) = {(1/count) * count_value}')\n",
    "        datas_mass.append((1/count) * count_value)  \n",
    "    expectation.append(datas_mass)\n",
    "print('expectation =',expectation)\n",
    "for l in range(len(data_nature[0])-1):\n",
    "    datas_mass = []\n",
    "    for x in range(len(list(set(answers)))):\n",
    "        count = 0\n",
    "        count_value = 0\n",
    "        for i in range(len(data_nature)):\n",
    "            if answers[i] == unique_answers[x]:\n",
    "                count_value += (data_nature[i][l] - expectation[l][x]) ** 2\n",
    "                count += 1\n",
    "        print(f'variance for criterion {l}, for value {x} = (1/({count}-1)) * ({count_value}) = {(1/(count-1)) * count_value}')\n",
    "        datas_mass.append((1/(count-1)) * count_value)\n",
    "    variance.append(datas_mass)\n",
    "print()\n",
    "print('expectation =',expectation)\n",
    "print('variance =',variance)"
   ]
  },
  {
   "cell_type": "code",
   "execution_count": 5,
   "id": "1aae7154",
   "metadata": {},
   "outputs": [
    {
     "name": "stdout",
     "output_type": "stream",
     "text": [
      "[0.5, 0.5]\n"
     ]
    }
   ],
   "source": [
    "ver = []\n",
    "for i in range(len(unique_answers)):\n",
    "    count = 0\n",
    "    for j in range(len(answers)):\n",
    "        if unique_answers[i] == answers[j]:\n",
    "            count += 1\n",
    "    ver.append(count/len(answers))\n",
    "print(ver)"
   ]
  },
  {
   "cell_type": "code",
   "execution_count": 8,
   "id": "f5ee707e",
   "metadata": {},
   "outputs": [
    {
     "name": "stdout",
     "output_type": "stream",
     "text": [
      "[0.0009294005280330439, -0.0002565058247597005]\n",
      "0 - гусеница\n"
     ]
    }
   ],
   "source": [
    "input_data = [40, 10] # задаём данные\n",
    "final_value = []\n",
    "for i in range(len(unique_answers)):\n",
    "    value = ver[i] *  (1 / (math.sqrt(2*math.pi* variance[i][0] * variance[i][1]))) *\\\n",
    "    (((input_data[0] - expectation[i][0])**2)/(2 * variance[i][0] ** 2) - ((input_data[1] - expectation[i][1])**2)/(2 * variance[i][1] ** 2))\n",
    "    final_value.append(value)\n",
    "print(final_value)\n",
    "maximum = [None, -111111]\n",
    "for i, mass in enumerate(final_value):\n",
    "    if mass > maximum[-1]:\n",
    "        maximum = [i, mass]\n",
    "if maximum[0] == 0:\n",
    "    print('0 - гусеница')\n",
    "else:\n",
    "    print('1 - божья коровка')"
   ]
  },
  {
   "cell_type": "code",
   "execution_count": null,
   "id": "70ed9ea5",
   "metadata": {},
   "outputs": [],
   "source": []
  }
 ],
 "metadata": {
  "kernelspec": {
   "display_name": "Python 3 (ipykernel)",
   "language": "python",
   "name": "python3"
  },
  "language_info": {
   "codemirror_mode": {
    "name": "ipython",
    "version": 3
   },
   "file_extension": ".py",
   "mimetype": "text/x-python",
   "name": "python",
   "nbconvert_exporter": "python",
   "pygments_lexer": "ipython3",
   "version": "3.10.7"
  }
 },
 "nbformat": 4,
 "nbformat_minor": 5
}
