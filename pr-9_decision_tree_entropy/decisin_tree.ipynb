{
 "cells": [
  {
   "cell_type": "code",
   "execution_count": 52,
   "outputs": [],
   "source": [
    "import math\n",
    "import pandas as pd"
   ],
   "metadata": {
    "collapsed": false,
    "ExecuteTime": {
     "end_time": "2023-05-12T14:56:46.614890600Z",
     "start_time": "2023-05-12T14:56:46.592395400Z"
    }
   }
  },
  {
   "cell_type": "code",
   "execution_count": 111,
   "outputs": [],
   "source": [
    "def generate_data():\n",
    "    data = [[1, 0],\n",
    "            [1, 0],\n",
    "            [1, 0],\n",
    "            [0, 1],\n",
    "            [0, 0],\n",
    "            [0, 0],\n",
    "            [0, 0],\n",
    "            [1, 1]]\n",
    "    answers = [1, 1, 1, 1, 0, 0, 0, 0]\n",
    "    return data, answers\n",
    "\n",
    "\n",
    "x, y = generate_data()"
   ],
   "metadata": {
    "collapsed": false,
    "ExecuteTime": {
     "end_time": "2023-05-12T16:57:32.013226800Z",
     "start_time": "2023-05-12T16:57:31.954978100Z"
    }
   }
  },
  {
   "cell_type": "code",
   "execution_count": 112,
   "outputs": [
    {
     "name": "stdout",
     "output_type": "stream",
     "text": [
      "Уникальные значения у критериев: [[0, 1], [0, 1]]\n",
      "Количество значений у критериев: [[4, 4], [6, 2]]\n"
     ]
    }
   ],
   "source": [
    "# все уникальне критерии и их количества\n",
    "unique_data = []\n",
    "for j in range(len(x[0])):\n",
    "    mass_to_unique = []\n",
    "    for i in range(len(x)):\n",
    "        if x[i][j] not in mass_to_unique:\n",
    "            mass_to_unique.append(x[i][j])\n",
    "    mass_to_unique.sort()\n",
    "    unique_data.append(mass_to_unique)\n",
    "print('Уникальные значения у критериев:', unique_data)\n",
    "\n",
    "count_data = []\n",
    "for i in range(len(unique_data)):\n",
    "    mass_to_unique = []\n",
    "    for j in range(len(unique_data[i])):\n",
    "        count = 0\n",
    "        for k in range(len(x)):\n",
    "            if x[k][i] == unique_data[i][j]:\n",
    "                count += 1\n",
    "        mass_to_unique.append(count)\n",
    "    count_data.append(mass_to_unique)\n",
    "print('Количество значений у критериев:', count_data)"
   ],
   "metadata": {
    "collapsed": false,
    "ExecuteTime": {
     "end_time": "2023-05-12T16:57:32.175971900Z",
     "start_time": "2023-05-12T16:57:31.989745500Z"
    }
   }
  },
  {
   "cell_type": "code",
   "execution_count": 113,
   "outputs": [
    {
     "name": "stdout",
     "output_type": "stream",
     "text": [
      "Уникальные классы: [0, 1]\n",
      "Количество для уникальных классов: [4, 4]\n"
     ]
    }
   ],
   "source": [
    "# все уникальные ответы и их количества\n",
    "unique_answer = []\n",
    "for i in y:\n",
    "    if i not in unique_answer:\n",
    "        unique_answer.append(i)\n",
    "unique_answer.sort()\n",
    "print('Уникальные классы:', unique_answer)\n",
    "\n",
    "count_answer = []\n",
    "for i in unique_answer:\n",
    "    count = 0\n",
    "    for j in y:\n",
    "        if j == i:\n",
    "            count += 1\n",
    "    count_answer.append(count)\n",
    "print('Количество для уникальных классов:', count_answer)"
   ],
   "metadata": {
    "collapsed": false,
    "ExecuteTime": {
     "end_time": "2023-05-12T16:57:32.175971900Z",
     "start_time": "2023-05-12T16:57:32.090186600Z"
    }
   }
  },
  {
   "cell_type": "code",
   "execution_count": 114,
   "outputs": [
    {
     "name": "stdout",
     "output_type": "stream",
     "text": [
      "Начальная энтропия = 1.0\n"
     ]
    }
   ],
   "source": [
    "# рачсёт начальной энтропии\n",
    "start_entropy = 0\n",
    "for i in count_answer:\n",
    "    start_entropy -= (i / len(y)) * math.log2(i / len(y))\n",
    "print('Начальная энтропия =', start_entropy)"
   ],
   "metadata": {
    "collapsed": false,
    "ExecuteTime": {
     "end_time": "2023-05-12T16:57:32.229402Z",
     "start_time": "2023-05-12T16:57:32.191593500Z"
    }
   }
  },
  {
   "cell_type": "code",
   "execution_count": 115,
   "outputs": [
    {
     "name": "stdout",
     "output_type": "stream",
     "text": [
      "Kоличество элементов для подсчёта энтропии: [[[3, 1], [1, 3]], [[3, 3], [1, 1]]]\n"
     ]
    }
   ],
   "source": [
    "# расчёт энтропии для всех исходов\n",
    "search_entropy = []\n",
    "for criterion in range(len(unique_data)):\n",
    "    count_criterion = []\n",
    "    for unique_criterion in range(len(unique_data[criterion])):\n",
    "        mass_answer_to_elem = [0] * len(unique_data)\n",
    "        for h in range(len(unique_answer)):\n",
    "            for i in range(len(x)):\n",
    "                if x[i][criterion] == unique_data[criterion][unique_criterion] and y[i] == unique_answer[h]:\n",
    "                    mass_answer_to_elem[h] += 1\n",
    "        count_criterion.append(mass_answer_to_elem)\n",
    "    search_entropy.append(count_criterion)\n",
    "print('Kоличество элементов для подсчёта энтропии:', search_entropy)"
   ],
   "metadata": {
    "collapsed": false,
    "ExecuteTime": {
     "end_time": "2023-05-12T16:57:32.545267400Z",
     "start_time": "2023-05-12T16:57:32.414051700Z"
    }
   }
  },
  {
   "cell_type": "code",
   "execution_count": 116,
   "outputs": [
    {
     "ename": "TypeError",
     "evalue": "unsupported operand type(s) for /: 'int' and 'list'",
     "output_type": "error",
     "traceback": [
      "\u001B[1;31m---------------------------------------------------------------------------\u001B[0m",
      "\u001B[1;31mTypeError\u001B[0m                                 Traceback (most recent call last)",
      "Cell \u001B[1;32mIn[116], line 7\u001B[0m\n\u001B[0;32m      5\u001B[0m         entropy \u001B[38;5;241m=\u001B[39m \u001B[38;5;241m0\u001B[39m\n\u001B[0;32m      6\u001B[0m         \u001B[38;5;28;01mfor\u001B[39;00m k \u001B[38;5;129;01min\u001B[39;00m \u001B[38;5;28mrange\u001B[39m(\u001B[38;5;28mlen\u001B[39m(search_entropy[i][j])):\n\u001B[1;32m----> 7\u001B[0m             entropy \u001B[38;5;241m+\u001B[39m\u001B[38;5;241m=\u001B[39m \u001B[38;5;241m-\u001B[39m(\u001B[43msearch_entropy\u001B[49m\u001B[43m[\u001B[49m\u001B[43mi\u001B[49m\u001B[43m]\u001B[49m\u001B[43m[\u001B[49m\u001B[43mj\u001B[49m\u001B[43m]\u001B[49m\u001B[43m[\u001B[49m\u001B[43mk\u001B[49m\u001B[43m]\u001B[49m\u001B[43m \u001B[49m\u001B[38;5;241;43m/\u001B[39;49m\u001B[43m \u001B[49m\u001B[43mcount_data\u001B[49m\u001B[43m[\u001B[49m\u001B[43mj\u001B[49m\u001B[43m]\u001B[49m) \u001B[38;5;241m*\u001B[39m \\\n\u001B[0;32m      8\u001B[0m                        math\u001B[38;5;241m.\u001B[39mlog2(search_entropy[i][j][k] \u001B[38;5;241m/\u001B[39m count_data[j])\n\u001B[0;32m      9\u001B[0m         mass_entropy\u001B[38;5;241m.\u001B[39mappend(entropy)\n\u001B[0;32m     10\u001B[0m \u001B[38;5;28mprint\u001B[39m(\u001B[38;5;124m'\u001B[39m\u001B[38;5;124mmass_entropy\u001B[39m\u001B[38;5;124m'\u001B[39m, mass_entropy)\n",
      "\u001B[1;31mTypeError\u001B[0m: unsupported operand type(s) for /: 'int' and 'list'"
     ]
    }
   ],
   "source": [
    "# расчёт энтропии для всех начальных исходов\n",
    "mass_entropy = []\n",
    "for i in range(len(search_entropy)):\n",
    "    for j in range(len(search_entropy[i])):\n",
    "        entropy = 0\n",
    "        for k in range(len(search_entropy[i][j])):\n",
    "            entropy += -(search_entropy[i][j][k] / count_data[j]) * \\\n",
    "                       math.log2(search_entropy[i][j][k] / count_data[j])\n",
    "        mass_entropy.append(entropy)\n",
    "print('mass_entropy', mass_entropy)\n",
    "# IG = [0] * len(data[0])\n",
    "# print('IG', IG)\n",
    "# for i in range(len(IG)):\n",
    "#     IG[i] += statr_entropy\n",
    "#     ig = 0\n",
    "#     for j in range(len(count_elements[i])):\n",
    "#         index = i * 2 + j\n",
    "#         ig += (count_elements[i][j] / len(data)) * mass_entropy[index]\n",
    "#     IG[i] -= ig\n",
    "# print('IG', IG)"
   ],
   "metadata": {
    "collapsed": false,
    "ExecuteTime": {
     "end_time": "2023-05-12T16:57:33.001072500Z",
     "start_time": "2023-05-12T16:57:32.529641600Z"
    }
   }
  },
  {
   "cell_type": "code",
   "execution_count": null,
   "outputs": [],
   "source": [],
   "metadata": {
    "collapsed": false,
    "ExecuteTime": {
     "start_time": "2023-05-12T16:57:32.984325100Z"
    }
   }
  },
  {
   "cell_type": "code",
   "execution_count": null,
   "outputs": [],
   "source": [],
   "metadata": {
    "collapsed": false,
    "ExecuteTime": {
     "start_time": "2023-05-12T16:57:32.984325100Z"
    }
   }
  },
  {
   "cell_type": "code",
   "execution_count": null,
   "outputs": [],
   "source": [],
   "metadata": {
    "collapsed": false
   }
  }
 ],
 "metadata": {
  "kernelspec": {
   "display_name": "Python 3",
   "language": "python",
   "name": "python3"
  },
  "language_info": {
   "codemirror_mode": {
    "name": "ipython",
    "version": 2
   },
   "file_extension": ".py",
   "mimetype": "text/x-python",
   "name": "python",
   "nbconvert_exporter": "python",
   "pygments_lexer": "ipython2",
   "version": "2.7.6"
  }
 },
 "nbformat": 4,
 "nbformat_minor": 0
}
