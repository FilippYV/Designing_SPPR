{
 "cells": [
  {
   "cell_type": "code",
   "execution_count": 1,
   "outputs": [],
   "source": [
    "import math\n",
    "import pandas as pd"
   ],
   "metadata": {
    "collapsed": false,
    "ExecuteTime": {
     "end_time": "2023-05-12T21:59:53.071830200Z",
     "start_time": "2023-05-12T21:59:53.066851100Z"
    }
   }
  },
  {
   "cell_type": "code",
   "execution_count": 10,
   "outputs": [],
   "source": [
    "tree = []"
   ],
   "metadata": {
    "collapsed": false,
    "ExecuteTime": {
     "end_time": "2023-05-12T23:16:10.764033800Z",
     "start_time": "2023-05-12T23:16:10.760044700Z"
    }
   }
  },
  {
   "cell_type": "code",
   "execution_count": 2,
   "outputs": [],
   "source": [
    "def generate_data():\n",
    "    data = [[1, 0],\n",
    "            [1, 0],\n",
    "            [1, 0],\n",
    "            [0, 1],\n",
    "            [0, 0],\n",
    "            [0, 0],\n",
    "            [0, 0],\n",
    "            [1, 1]]\n",
    "    answers = [1, 1, 1, 1, 0, 0, 0, 0]\n",
    "    return data, answers\n",
    "\n",
    "\n",
    "x, y = generate_data()"
   ],
   "metadata": {
    "collapsed": false,
    "ExecuteTime": {
     "end_time": "2023-05-12T21:59:53.077431500Z",
     "start_time": "2023-05-12T21:59:53.071830200Z"
    }
   }
  },
  {
   "cell_type": "code",
   "execution_count": 3,
   "outputs": [
    {
     "name": "stdout",
     "output_type": "stream",
     "text": [
      "Уникальные значения у критериев: [[0, 1], [0, 1]]\n",
      "Количество значений у критериев: [[4, 4], [6, 2]]\n"
     ]
    }
   ],
   "source": [
    "# все уникальне критерии и их количества\n",
    "unique_data = []\n",
    "for j in range(len(x[0])):\n",
    "    mass_to_unique = []\n",
    "    for i in range(len(x)):\n",
    "        if x[i][j] not in mass_to_unique:\n",
    "            mass_to_unique.append(x[i][j])\n",
    "    mass_to_unique.sort()\n",
    "    unique_data.append(mass_to_unique)\n",
    "print('Уникальные значения у критериев:', unique_data)\n",
    "\n",
    "count_data = []\n",
    "for i in range(len(unique_data)):\n",
    "    mass_to_unique = []\n",
    "    for j in range(len(unique_data[i])):\n",
    "        count = 0\n",
    "        for k in range(len(x)):\n",
    "            if x[k][i] == unique_data[i][j]:\n",
    "                count += 1\n",
    "        mass_to_unique.append(count)\n",
    "    count_data.append(mass_to_unique)\n",
    "print('Количество значений у критериев:', count_data)"
   ],
   "metadata": {
    "collapsed": false,
    "ExecuteTime": {
     "end_time": "2023-05-12T21:59:53.088117Z",
     "start_time": "2023-05-12T21:59:53.082419800Z"
    }
   }
  },
  {
   "cell_type": "code",
   "execution_count": 4,
   "outputs": [
    {
     "name": "stdout",
     "output_type": "stream",
     "text": [
      "Уникальные классы: [0, 1]\n",
      "Количество для уникальных классов: [4, 4]\n"
     ]
    }
   ],
   "source": [
    "# все уникальные ответы и их количества\n",
    "unique_answer = []\n",
    "for i in y:\n",
    "    if i not in unique_answer:\n",
    "        unique_answer.append(i)\n",
    "unique_answer.sort()\n",
    "print('Уникальные классы:', unique_answer)\n",
    "\n",
    "count_answer = []\n",
    "for i in unique_answer:\n",
    "    count = 0\n",
    "    for j in y:\n",
    "        if j == i:\n",
    "            count += 1\n",
    "    count_answer.append(count)\n",
    "print('Количество для уникальных классов:', count_answer)"
   ],
   "metadata": {
    "collapsed": false,
    "ExecuteTime": {
     "end_time": "2023-05-12T21:59:53.097525700Z",
     "start_time": "2023-05-12T21:59:53.092105900Z"
    }
   }
  },
  {
   "cell_type": "code",
   "execution_count": 5,
   "outputs": [
    {
     "name": "stdout",
     "output_type": "stream",
     "text": [
      "Начальная энтропия = 1.0\n"
     ]
    }
   ],
   "source": [
    "# рачсёт начальной энтропии\n",
    "start_entropy = 0\n",
    "for i in count_answer:\n",
    "    start_entropy -= (i / len(y)) * math.log2(i / len(y))\n",
    "print('Начальная энтропия =', start_entropy)"
   ],
   "metadata": {
    "collapsed": false,
    "ExecuteTime": {
     "end_time": "2023-05-12T21:59:53.178980400Z",
     "start_time": "2023-05-12T21:59:53.096529200Z"
    }
   }
  },
  {
   "cell_type": "code",
   "execution_count": 6,
   "outputs": [
    {
     "name": "stdout",
     "output_type": "stream",
     "text": [
      "Kоличество элементов для подсчёта энтропии: [[[3, 1], [1, 3]], [[3, 3], [1, 1]]]\n"
     ]
    }
   ],
   "source": [
    "# расчёт энтропии для всех исходов\n",
    "search_entropy = []\n",
    "for criterion in range(len(unique_data)):\n",
    "    count_criterion = []\n",
    "    for unique_criterion in range(len(unique_data[criterion])):\n",
    "        mass_answer_to_elem = [0] * len(unique_data)\n",
    "        for h in range(len(unique_answer)):\n",
    "            for i in range(len(x)):\n",
    "                if x[i][criterion] == unique_data[criterion][unique_criterion] and y[i] == unique_answer[h]:\n",
    "                    mass_answer_to_elem[h] += 1\n",
    "        count_criterion.append(mass_answer_to_elem)\n",
    "    search_entropy.append(count_criterion)\n",
    "print('Kоличество элементов для подсчёта энтропии:', search_entropy)"
   ],
   "metadata": {
    "collapsed": false,
    "ExecuteTime": {
     "end_time": "2023-05-12T21:59:53.179977100Z",
     "start_time": "2023-05-12T21:59:53.109106800Z"
    }
   }
  },
  {
   "cell_type": "code",
   "execution_count": 11,
   "outputs": [
    {
     "name": "stdout",
     "output_type": "stream",
     "text": [
      "mass_entropy [[0.8112781244591328, 0.8112781244591328], [1.0, 1.0]]\n",
      "IG [0.18872187554086717, 0.0]\n",
      "0.18872187554086717 0\n"
     ]
    }
   ],
   "source": [
    "# расчёт энтропии для всех начальных исходов\n",
    "mass_entropy = []\n",
    "for i in range(len(search_entropy)):\n",
    "    entropy_critery = []\n",
    "    for j in range(len(search_entropy[i])):\n",
    "        entropy = 0\n",
    "        for k in range(len(search_entropy[i][j])):\n",
    "            entropy += -(search_entropy[i][j][k] / count_data[i][j]) * \\\n",
    "                       math.log2(search_entropy[i][j][k] / count_data[i][j])\n",
    "        entropy_critery.append(entropy)\n",
    "    mass_entropy.append(entropy_critery)\n",
    "print('mass_entropy', mass_entropy)\n",
    "IG = [0] * len(unique_data)\n",
    "# print('IG', IG)\n",
    "for i in range(len(IG)):\n",
    "    IG[i] += start_entropy\n",
    "    ig = 0\n",
    "    for j in range(len(count_data[i])):\n",
    "            ig += (count_data[i][j] / (len(x))) * mass_entropy[i][j]\n",
    "    IG[i] -= ig\n",
    "print('IG', IG)\n",
    "\n",
    "max = 0\n",
    "iteration = 0\n",
    "for i in range(len(IG)):\n",
    "    if max < IG[i]:\n",
    "        max = IG[i]\n",
    "        iteration = i\n",
    "print(max, iteration)\n",
    "tree.append([iteration])"
   ],
   "metadata": {
    "collapsed": false,
    "ExecuteTime": {
     "end_time": "2023-05-12T23:16:14.314783200Z",
     "start_time": "2023-05-12T23:16:14.307800100Z"
    }
   }
  },
  {
   "cell_type": "code",
   "execution_count": 13,
   "outputs": [
    {
     "name": "stdout",
     "output_type": "stream",
     "text": [
      "[0]\n"
     ]
    }
   ],
   "source": [
    "print(tree)"
   ],
   "metadata": {
    "collapsed": false,
    "ExecuteTime": {
     "end_time": "2023-05-12T23:16:34.868130100Z",
     "start_time": "2023-05-12T23:16:34.864626700Z"
    }
   }
  },
  {
   "cell_type": "code",
   "execution_count": null,
   "outputs": [],
   "source": [],
   "metadata": {
    "collapsed": false,
    "ExecuteTime": {
     "start_time": "2023-05-12T16:57:32.984325100Z"
    }
   }
  },
  {
   "cell_type": "code",
   "execution_count": null,
   "outputs": [],
   "source": [],
   "metadata": {
    "collapsed": false
   }
  }
 ],
 "metadata": {
  "kernelspec": {
   "display_name": "Python 3",
   "language": "python",
   "name": "python3"
  },
  "language_info": {
   "codemirror_mode": {
    "name": "ipython",
    "version": 2
   },
   "file_extension": ".py",
   "mimetype": "text/x-python",
   "name": "python",
   "nbconvert_exporter": "python",
   "pygments_lexer": "ipython2",
   "version": "2.7.6"
  }
 },
 "nbformat": 4,
 "nbformat_minor": 0
}
