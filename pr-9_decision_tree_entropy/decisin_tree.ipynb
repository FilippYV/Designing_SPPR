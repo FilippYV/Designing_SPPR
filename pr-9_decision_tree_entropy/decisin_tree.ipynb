{
 "cells": [
  {
   "cell_type": "code",
   "execution_count": 27,
   "outputs": [],
   "source": [
    "import math\n",
    "import pandas as pd"
   ],
   "metadata": {
    "collapsed": false,
    "ExecuteTime": {
     "end_time": "2023-05-26T13:45:19.518632Z",
     "start_time": "2023-05-26T13:45:19.485631400Z"
    }
   }
  },
  {
   "cell_type": "code",
   "execution_count": 28,
   "outputs": [
    {
     "name": "stdout",
     "output_type": "stream",
     "text": [
      "1\n",
      "1\n",
      "1\n",
      "1\n",
      "0\n",
      "0\n",
      "0\n",
      "0\n"
     ]
    }
   ],
   "source": [
    "def generate_data():\n",
    "    data = [[1, 0],\n",
    "            [1, 0],\n",
    "            [1, 0],\n",
    "            [0, 1],\n",
    "            [0, 0],\n",
    "            [0, 0],\n",
    "            [0, 0],\n",
    "            [1, 1]]\n",
    "    answers = [1, 1, 1, 1, 0, 0, 0, 0]\n",
    "    for i in answers:\n",
    "        print(i)\n",
    "    return data, answers\n",
    "\n",
    "\n",
    "x, y = generate_data()"
   ],
   "metadata": {
    "collapsed": false,
    "ExecuteTime": {
     "end_time": "2023-05-26T13:45:20.669807100Z",
     "start_time": "2023-05-26T13:45:20.593734100Z"
    }
   }
  },
  {
   "cell_type": "code",
   "execution_count": 12,
   "outputs": [
    {
     "name": "stdout",
     "output_type": "stream",
     "text": [
      "Уникальные значения у критериев: [[0, 1], [0, 1]]\n",
      "Количество значений у критериев: [[4, 4], [6, 2]]\n"
     ]
    }
   ],
   "source": [
    "# все уникальне критерии и их количества\n",
    "unique_data = []\n",
    "for j in range(len(x[0])):\n",
    "    mass_to_unique = []\n",
    "    for i in range(len(x)):\n",
    "        if x[i][j] not in mass_to_unique:\n",
    "            mass_to_unique.append(x[i][j])\n",
    "    mass_to_unique.sort()\n",
    "    unique_data.append(mass_to_unique)\n",
    "print('Уникальные значения у критериев:', unique_data)\n",
    "\n",
    "count_data = []\n",
    "for i in range(len(unique_data)):\n",
    "    mass_to_unique = []\n",
    "    for j in range(len(unique_data[i])):\n",
    "        count = 0\n",
    "        for k in range(len(x)):\n",
    "            if x[k][i] == unique_data[i][j]:\n",
    "                count += 1\n",
    "        mass_to_unique.append(count)\n",
    "    count_data.append(mass_to_unique)\n",
    "print('Количество значений у критериев:', count_data)"
   ],
   "metadata": {
    "collapsed": false,
    "ExecuteTime": {
     "end_time": "2023-05-26T12:27:31.592196900Z",
     "start_time": "2023-05-26T12:27:31.552202900Z"
    }
   }
  },
  {
   "cell_type": "code",
   "execution_count": 13,
   "outputs": [
    {
     "name": "stdout",
     "output_type": "stream",
     "text": [
      "Уникальные классы: [0, 1]\n",
      "Количество для уникальных классов: [4, 4]\n"
     ]
    }
   ],
   "source": [
    "# все уникальные ответы и их количества\n",
    "unique_answer = []\n",
    "for i in y:\n",
    "    if i not in unique_answer:\n",
    "        unique_answer.append(i)\n",
    "unique_answer.sort()\n",
    "print('Уникальные классы:', unique_answer)\n",
    "\n",
    "count_answer = []\n",
    "for i in unique_answer:\n",
    "    count = 0\n",
    "    for j in y:\n",
    "        if j == i:\n",
    "            count += 1\n",
    "    count_answer.append(count)\n",
    "print('Количество для уникальных классов:', count_answer)"
   ],
   "metadata": {
    "collapsed": false,
    "ExecuteTime": {
     "end_time": "2023-05-26T12:27:32.244734900Z",
     "start_time": "2023-05-26T12:27:32.208609Z"
    }
   }
  },
  {
   "cell_type": "code",
   "execution_count": 14,
   "outputs": [
    {
     "name": "stdout",
     "output_type": "stream",
     "text": [
      "Начальная энтропия = 1.0\n"
     ]
    }
   ],
   "source": [
    "# рачсёт начальной энтропии\n",
    "start_entropy = 0\n",
    "for i in count_answer:\n",
    "    start_entropy -= (i / len(y)) * math.log2(i / len(y))\n",
    "print('Начальная энтропия =', start_entropy)"
   ],
   "metadata": {
    "collapsed": false,
    "ExecuteTime": {
     "end_time": "2023-05-26T12:27:32.703321100Z",
     "start_time": "2023-05-26T12:27:32.638121800Z"
    }
   }
  },
  {
   "cell_type": "code",
   "execution_count": 15,
   "outputs": [
    {
     "name": "stdout",
     "output_type": "stream",
     "text": [
      "Kоличество элементов для подсчёта энтропии: [[[3, 1], [1, 3]], [[3, 3], [1, 1]]]\n"
     ]
    }
   ],
   "source": [
    "# расчёт энтропии для всех исходов\n",
    "search_entropy = []\n",
    "for criterion in range(len(unique_data)):\n",
    "    count_criterion = []\n",
    "    for unique_criterion in range(len(unique_data[criterion])):\n",
    "        mass_answer_to_elem = [0] * len(unique_data)\n",
    "        for h in range(len(unique_answer)):\n",
    "            for i in range(len(x)):\n",
    "                if x[i][criterion] == unique_data[criterion][unique_criterion] and y[i] == unique_answer[h]:\n",
    "                    mass_answer_to_elem[h] += 1\n",
    "        count_criterion.append(mass_answer_to_elem)\n",
    "    search_entropy.append(count_criterion)\n",
    "print('Kоличество элементов для подсчёта энтропии:', search_entropy)"
   ],
   "metadata": {
    "collapsed": false,
    "ExecuteTime": {
     "end_time": "2023-05-26T12:27:33.523755400Z",
     "start_time": "2023-05-26T12:27:33.445829900Z"
    }
   }
  },
  {
   "cell_type": "code",
   "execution_count": 16,
   "outputs": [
    {
     "name": "stdout",
     "output_type": "stream",
     "text": [
      "mass_entropy [[0.8112781244591328, 0.8112781244591328], [1.0, 1.0]]\n",
      "IG [0.18872187554086717, 0.0]\n"
     ]
    }
   ],
   "source": [
    "# расчёт энтропии для всех начальных исходов\n",
    "mass_entropy = []\n",
    "for i in range(len(search_entropy)):\n",
    "    entropy_critery = []\n",
    "    for j in range(len(search_entropy[i])):\n",
    "        entropy = 0\n",
    "        for k in range(len(search_entropy[i][j])):\n",
    "            entropy += -(search_entropy[i][j][k] / count_data[i][j]) * \\\n",
    "                       math.log2(search_entropy[i][j][k] / count_data[i][j])\n",
    "        entropy_critery.append(entropy)\n",
    "    mass_entropy.append(entropy_critery)\n",
    "print('mass_entropy', mass_entropy)\n",
    "IG = [0] * len(unique_data)\n",
    "# print('IG', IG)\n",
    "for i in range(len(IG)):\n",
    "    IG[i] += start_entropy\n",
    "    ig = 0\n",
    "    for j in range(len(count_data[i])):\n",
    "            ig += (count_data[i][j] / (len(x))) * mass_entropy[i][j]\n",
    "    IG[i] -= ig\n",
    "print('IG', IG)\n"
   ],
   "metadata": {
    "collapsed": false,
    "ExecuteTime": {
     "end_time": "2023-05-26T12:27:34.714204700Z",
     "start_time": "2023-05-26T12:27:34.649267300Z"
    }
   }
  },
  {
   "cell_type": "code",
   "execution_count": 17,
   "outputs": [
    {
     "name": "stdout",
     "output_type": "stream",
     "text": [
      "IG = 0.18872187554086717 \n",
      "Критерий = 0\n",
      "[0]\n"
     ]
    }
   ],
   "source": [
    "# выбор первого критерия\n",
    "tree = []\n",
    "max = 0\n",
    "iteration = 0\n",
    "for i in range(len(IG)):\n",
    "    if max < IG[i]:\n",
    "        max = IG[i]\n",
    "        iteration = i\n",
    "print('IG =', max, '\\nКритерий =',  iteration)\n",
    "tree.append(iteration)\n",
    "print(tree)"
   ],
   "metadata": {
    "collapsed": false,
    "ExecuteTime": {
     "end_time": "2023-05-26T12:27:35.955843500Z",
     "start_time": "2023-05-26T12:27:35.905935400Z"
    }
   }
  },
  {
   "cell_type": "code",
   "execution_count": 24,
   "outputs": [
    {
     "name": "stdout",
     "output_type": "stream",
     "text": [
      "[[[3, 0], [3, 0]], [[0, 1], [0, 1]]]\n"
     ]
    }
   ],
   "source": [],
   "metadata": {
    "collapsed": false,
    "ExecuteTime": {
     "end_time": "2023-05-26T13:36:54.578887300Z",
     "start_time": "2023-05-26T13:36:54.425434800Z"
    }
   }
  },
  {
   "cell_type": "code",
   "execution_count": 26,
   "outputs": [
    {
     "name": "stdout",
     "output_type": "stream",
     "text": [
      "0.75\n",
      "0.75\n",
      "0.16666666666666666\n",
      "0.5\n",
      "mass_entropy [[0.31127812445913283, 0.31127812445913283], [0.430827083453526, 0.5]]\n"
     ]
    },
    {
     "ename": "TypeError",
     "evalue": "unsupported operand type(s) for +=: 'int' and 'list'",
     "output_type": "error",
     "traceback": [
      "\u001B[1;31m---------------------------------------------------------------------------\u001B[0m",
      "\u001B[1;31mTypeError\u001B[0m                                 Traceback (most recent call last)",
      "Cell \u001B[1;32mIn[26], line 20\u001B[0m\n\u001B[0;32m     18\u001B[0m \u001B[38;5;66;03m# print('IG', IG)\u001B[39;00m\n\u001B[0;32m     19\u001B[0m \u001B[38;5;28;01mfor\u001B[39;00m i \u001B[38;5;129;01min\u001B[39;00m \u001B[38;5;28mrange\u001B[39m(\u001B[38;5;28mlen\u001B[39m(IG)):\n\u001B[1;32m---> 20\u001B[0m     \u001B[43mIG\u001B[49m\u001B[43m[\u001B[49m\u001B[43mi\u001B[49m\u001B[43m]\u001B[49m\u001B[43m \u001B[49m\u001B[38;5;241;43m+\u001B[39;49m\u001B[38;5;241;43m=\u001B[39;49m\u001B[43m \u001B[49m\u001B[43mstart_entropy\u001B[49m\n\u001B[0;32m     21\u001B[0m     ig \u001B[38;5;241m=\u001B[39m \u001B[38;5;241m0\u001B[39m\n\u001B[0;32m     22\u001B[0m     \u001B[38;5;28;01mfor\u001B[39;00m j \u001B[38;5;129;01min\u001B[39;00m \u001B[38;5;28mrange\u001B[39m(\u001B[38;5;28mlen\u001B[39m(count_data[i])):\n",
      "\u001B[1;31mTypeError\u001B[0m: unsupported operand type(s) for +=: 'int' and 'list'"
     ]
    }
   ],
   "source": [],
   "metadata": {
    "collapsed": false,
    "ExecuteTime": {
     "end_time": "2023-05-26T13:42:35.176386Z",
     "start_time": "2023-05-26T13:42:34.758266Z"
    }
   }
  }
 ],
 "metadata": {
  "kernelspec": {
   "display_name": "Python 3",
   "language": "python",
   "name": "python3"
  },
  "language_info": {
   "codemirror_mode": {
    "name": "ipython",
    "version": 2
   },
   "file_extension": ".py",
   "mimetype": "text/x-python",
   "name": "python",
   "nbconvert_exporter": "python",
   "pygments_lexer": "ipython2",
   "version": "2.7.6"
  }
 },
 "nbformat": 4,
 "nbformat_minor": 0
}
